{
 "cells": [
  {
   "cell_type": "code",
   "execution_count": 1,
   "id": "initial_id",
   "metadata": {
    "collapsed": true,
    "ExecuteTime": {
     "end_time": "2023-10-04T15:31:31.938483815Z",
     "start_time": "2023-10-04T15:31:31.518619796Z"
    }
   },
   "outputs": [],
   "source": [
    "import os\n",
    "import pydicom\n",
    "import highdicom as hd\n",
    "import pandas as pd\n",
    "import numpy as np\n",
    "import dicom2nifti"
   ]
  },
  {
   "cell_type": "code",
   "execution_count": 12,
   "outputs": [],
   "source": [
    "#Extract SOP IDS from segmentation object\n",
    "dirPath = '.'\n",
    "count_seg = 0\n",
    "SOP = []"
   ],
   "metadata": {
    "collapsed": false,
    "ExecuteTime": {
     "end_time": "2023-10-04T16:11:22.296511369Z",
     "start_time": "2023-10-04T16:11:22.249757395Z"
    }
   },
   "id": "6e8cafd9a72d49c9"
  },
  {
   "cell_type": "code",
   "execution_count": 23,
   "outputs": [],
   "source": [
    "for studies in os.listdir(dirPath):\n",
    "    if('CRLM-CT' in studies):\n",
    "        study_contents = os.path.join(dirPath,studies)\n",
    "        for segment in os.listdir(study_contents):\n",
    "            if 'seg' in segment:\n",
    "                segPath = os.path.join(study_contents,segment)\n",
    "                seg = hd.seg.segread(segPath)\n",
    "                segment_uids = pd.DataFrame(seg.get_source_image_uids())\n",
    "                sop_ids = segment_uids.iloc[:,-1:].to_numpy()\n",
    "                \n",
    "                outPath2 = os.path.join(study_contents, 'dicom_liver')\n",
    "                if os.path.exists(outPath2):\n",
    "                    print('path to liver dicom already exists')\n",
    "                else:\n",
    "                    os.mkdir(outPath2)\n",
    "                    \n",
    "                file_list = []\n",
    "                #make dicom path\n",
    "                for dicom in os.listdir(study_contents):\n",
    "                    if 'dicom' in dicom:\n",
    "                        dicomPath = os.path.join(study_contents,dicom)\n",
    "                        for files in os.listdir(dicomPath):\n",
    "                            filename = os.path.join(dicomPath, files)\n",
    "                            ds = pydicom.filereader.dcmread(filename)\n",
    "                            if(np.isin(ds.SOPInstanceUID, sop_ids)):\n",
    "                                file_list.append(filename)\n",
    "                                os.rename(filename, os.path.join(outPath2, files))"
   ],
   "metadata": {
    "collapsed": false,
    "ExecuteTime": {
     "end_time": "2023-10-04T16:52:23.714770056Z",
     "start_time": "2023-10-04T16:51:56.480491041Z"
    }
   },
   "id": "cd033e02a86f98ec"
  },
  {
   "cell_type": "code",
   "execution_count": 24,
   "outputs": [],
   "source": [
    "#write nii.gz files for each segmentation\n",
    "os.mkdir('./LiverSegmentations')"
   ],
   "metadata": {
    "collapsed": false,
    "ExecuteTime": {
     "end_time": "2023-10-04T16:58:04.418626470Z",
     "start_time": "2023-10-04T16:58:04.378402920Z"
    }
   },
   "id": "8c90a322828dca9"
  },
  {
   "cell_type": "code",
   "execution_count": 29,
   "outputs": [
    {
     "name": "stdout",
     "output_type": "stream",
     "text": [
      "197\n"
     ]
    }
   ],
   "source": [
    "count = 0\n",
    "outPath = './LiverSegmentations'\n",
    "for studies in os.listdir(dirPath):\n",
    "    if('CRLM-CT' in studies):\n",
    "        study_contents = os.path.join(dirPath,studies)\n",
    "        for segment in os.listdir(study_contents):\n",
    "            if 'dicom_liver' in segment:\n",
    "                dicomLiverPath = os.path.join(study_contents, segment)\n",
    "                outLiverPath = os.path.join(outPath, studies)\n",
    "                #os.mkdir(outLiverPath)\n",
    "                \n",
    "                outLiverFile = os.path.join(outLiverPath, 'liver.nii.gz')\n",
    "                dicom2nifti.dicom_series_to_nifti(dicomLiverPath, outLiverFile, reorient_nifti=True)\n",
    "                count+=1\n",
    "\n",
    "print(count)\n",
    "        "
   ],
   "metadata": {
    "collapsed": false,
    "ExecuteTime": {
     "end_time": "2023-10-04T17:10:42.146650458Z",
     "start_time": "2023-10-04T17:07:45.720788662Z"
    }
   },
   "id": "90bc36c33c17b3ac"
  },
  {
   "cell_type": "code",
   "execution_count": null,
   "outputs": [],
   "source": [],
   "metadata": {
    "collapsed": false
   },
   "id": "ff5c28356adfd171"
  }
 ],
 "metadata": {
  "kernelspec": {
   "display_name": "Python 3",
   "language": "python",
   "name": "python3"
  },
  "language_info": {
   "codemirror_mode": {
    "name": "ipython",
    "version": 2
   },
   "file_extension": ".py",
   "mimetype": "text/x-python",
   "name": "python",
   "nbconvert_exporter": "python",
   "pygments_lexer": "ipython2",
   "version": "2.7.6"
  }
 },
 "nbformat": 4,
 "nbformat_minor": 5
}
