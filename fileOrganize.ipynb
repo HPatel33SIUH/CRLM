{
 "cells": [
  {
   "cell_type": "code",
   "execution_count": 1,
   "id": "initial_id",
   "metadata": {
    "collapsed": true,
    "ExecuteTime": {
     "end_time": "2023-10-13T17:19:33.544305300Z",
     "start_time": "2023-10-13T17:19:33.540880100Z"
    }
   },
   "outputs": [],
   "source": [
    "import os\n",
    "import re\n",
    "import shutil"
   ]
  },
  {
   "cell_type": "code",
   "execution_count": 46,
   "outputs": [
    {
     "name": "stdout",
     "output_type": "stream",
     "text": [
      "Directory already exists!\n",
      "Directory already exists!\n",
      "Directory already exists!\n",
      "Directory already exists!\n",
      "Directory already exists!\n",
      "Directory already exists!\n",
      "Directory already exists!\n",
      "Directory already exists!\n",
      "Directory already exists!\n",
      "Directory already exists!\n",
      "Directory already exists!\n",
      "Directory already exists!\n",
      "Directory already exists!\n",
      "16304\n"
     ]
    }
   ],
   "source": [
    "dirPath = '.'\n",
    "count_seg = 0\n",
    "count_dcm = 0\n",
    "for folder in os.listdir(dirPath):\n",
    "    if('CRLM-CT' in folder):\n",
    "        subfolder = os.path.join(dirPath, folder)\n",
    "        \n",
    "        FileNum = re.findall(r'\\d+', folder)\n",
    "        FileNum = int(FileNum.pop(0)) - 1000\n",
    "        outFolderName = 'dicom_' + str(FileNum)\n",
    "        outPath = os.path.join(subfolder,outFolderName)\n",
    "        \n",
    "        if(os.path.exists(outPath)):\n",
    "            print('Directory already exists!')\n",
    "        else:\n",
    "            os.mkdir(outPath)\n",
    "        \n",
    "        for subfolders in os.listdir(subfolder):\n",
    "            if('CT' in subfolders):\n",
    "                directory = os.path.join(subfolder, subfolders)\n",
    "                for directories in os.listdir(directory):\n",
    "                    if('Seg' in directories):\n",
    "                        count_seg += 1\n",
    "                        #seg_file = os.listdir(os.path.join(directory, directories))[0]\n",
    "                        #count_seg += 1\n",
    "                    else:\n",
    "                        dcm_files = os.listdir(os.path.join(directory, directories))\n",
    "                        for dcm_file in dcm_files:\n",
    "                            inPath = os.path.join(directory,directories, dcm_file)\n",
    "                            outPath2 = os.path.join(subfolder,outFolderName,dcm_file)\n",
    "                            shutil.move(inPath, outPath2)\n",
    "                            count_dcm += 1\n",
    "                        \n",
    "print(count_dcm)"
   ],
   "metadata": {
    "collapsed": false,
    "ExecuteTime": {
     "end_time": "2023-10-04T15:27:53.883903859Z",
     "start_time": "2023-10-04T15:27:53.745294499Z"
    }
   },
   "id": "7ac64121a0d29167"
  },
  {
   "cell_type": "code",
   "execution_count": 26,
   "outputs": [
    {
     "name": "stdout",
     "output_type": "stream",
     "text": [
      "116\n"
     ]
    }
   ],
   "source": [],
   "metadata": {
    "collapsed": false,
    "ExecuteTime": {
     "end_time": "2023-10-04T14:59:28.590315631Z",
     "start_time": "2023-10-04T14:59:28.581053060Z"
    }
   },
   "id": "14e659e455e6cfc2"
  },
  {
   "cell_type": "code",
   "execution_count": null,
   "outputs": [],
   "source": [],
   "metadata": {
    "collapsed": false
   },
   "id": "aa73a2284fd5ee61"
  }
 ],
 "metadata": {
  "kernelspec": {
   "display_name": "Python 3",
   "language": "python",
   "name": "python3"
  },
  "language_info": {
   "codemirror_mode": {
    "name": "ipython",
    "version": 2
   },
   "file_extension": ".py",
   "mimetype": "text/x-python",
   "name": "python",
   "nbconvert_exporter": "python",
   "pygments_lexer": "ipython2",
   "version": "2.7.6"
  }
 },
 "nbformat": 4,
 "nbformat_minor": 5
}
