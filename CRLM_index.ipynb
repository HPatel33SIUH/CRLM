{
 "cells": [
  {
   "cell_type": "code",
   "execution_count": 40,
   "outputs": [],
   "source": [
    "import logging\n",
    "import os\n",
    "import sys\n",
    "\n",
    "import numpy as np\n",
    "import pandas as pd\n",
    "import torch\n",
    "from ignite.engine import Events, create_supervised_evaluator, create_supervised_trainer\n",
    "from ignite.handlers import EarlyStopping, ModelCheckpoint\n",
    "from ignite.metrics import Accuracy\n",
    "\n",
    "import monai\n",
    "import tensorboard\n",
    "from monai.data import ImageDataset, decollate_batch, DataLoader\n",
    "from monai.handlers import StatsHandler, TensorBoardStatsHandler, stopping_fn_from_metric\n",
    "from monai.transforms import EnsureChannelFirst, Compose, RandRotate90, Resize, ScaleIntensity"
   ],
   "metadata": {
    "collapsed": false,
    "ExecuteTime": {
     "end_time": "2023-10-11T17:59:51.634893683Z",
     "start_time": "2023-10-11T17:59:51.591001176Z"
    }
   }
  },
  {
   "cell_type": "code",
   "execution_count": 41,
   "outputs": [
    {
     "name": "stdout",
     "output_type": "stream",
     "text": [
      "MONAI version: 1.2.0\n",
      "Numpy version: 1.24.3\n",
      "Pytorch version: 2.0.1\n",
      "MONAI flags: HAS_EXT = False, USE_COMPILED = False, USE_META_DICT = False\n",
      "MONAI rev id: c33f1ba588ee00229a309000e888f9817b4f1934\n",
      "MONAI __file__: /home/hpatel33/anaconda3/lib/python3.11/site-packages/monai/__init__.py\n",
      "\n",
      "Optional dependencies:\n",
      "Pytorch Ignite version: 0.4.11\n",
      "ITK version: NOT INSTALLED or UNKNOWN VERSION.\n",
      "Nibabel version: 5.1.0\n",
      "scikit-image version: 0.20.0\n",
      "Pillow version: 9.4.0\n",
      "Tensorboard version: 2.14.1\n",
      "gdown version: NOT INSTALLED or UNKNOWN VERSION.\n",
      "TorchVision version: 0.15.2+cu117\n",
      "tqdm version: 4.65.0\n",
      "lmdb version: 1.4.1\n",
      "psutil version: 5.9.0\n",
      "pandas version: 1.5.3\n",
      "einops version: NOT INSTALLED or UNKNOWN VERSION.\n",
      "transformers version: 4.29.2\n",
      "mlflow version: NOT INSTALLED or UNKNOWN VERSION.\n",
      "pynrrd version: 1.0.0\n",
      "\n",
      "For details about installing the optional dependencies, please visit:\n",
      "    https://docs.monai.io/en/latest/installation.html#installing-the-recommended-dependencies\n"
     ]
    }
   ],
   "source": [
    "monai.config.print_config()\n",
    "logging.basicConfig(stream=sys.stdout, level=logging.INFO)"
   ],
   "metadata": {
    "collapsed": false,
    "ExecuteTime": {
     "end_time": "2023-10-11T17:59:53.223378135Z",
     "start_time": "2023-10-11T17:59:53.172237661Z"
    }
   }
  },
  {
   "cell_type": "code",
   "execution_count": 42,
   "outputs": [],
   "source": [
    "#list of image paths\n",
    "imgFolder = './LiverSegmentations'\n",
    "images = []\n",
    "for folders in os.listdir(imgFolder):\n",
    "    for files in os.listdir(os.path.join(imgFolder, folders)):\n",
    "        imgPath = os.path.join(imgFolder, folders, files)\n",
    "        images.append(imgPath)"
   ],
   "metadata": {
    "collapsed": false,
    "ExecuteTime": {
     "end_time": "2023-10-11T17:59:58.796573647Z",
     "start_time": "2023-10-11T17:59:58.789556866Z"
    }
   }
  },
  {
   "cell_type": "code",
   "execution_count": 43,
   "outputs": [],
   "source": [
    "#extract labels\n",
    "labelPath = \"./Colorectal Liver Metastases Clinical data April 2023.xlsx\"\n",
    "data = pd.read_excel(labelPath, sheet_name=\"CRLM (n=168)\")\n",
    "rec_5yr = data['Recurrence (5y)']\n",
    "rec_2yr = data['Recurrence (2y)']\n",
    "data_id = data['Patient-ID']\n",
    "data_label = pd.concat([data_id, rec_2yr, rec_5yr], axis=1)"
   ],
   "metadata": {
    "collapsed": false,
    "ExecuteTime": {
     "end_time": "2023-10-11T17:59:59.746559208Z",
     "start_time": "2023-10-11T17:59:59.717653329Z"
    }
   }
  },
  {
   "cell_type": "code",
   "execution_count": 44,
   "outputs": [
    {
     "name": "stdout",
     "output_type": "stream",
     "text": [
      "     Patient-ID  Recurrence (2y)  Recurrence (5y)\n",
      "0  CRLM-CT-1001                0                0\n",
      "1  CRLM-CT-1002                1                1\n",
      "2  CRLM-CT-1003                0                0\n",
      "3  CRLM-CT-1004                0                0\n",
      "4  CRLM-CT-1005                0                1\n"
     ]
    }
   ],
   "source": [
    "print(data_label.head())"
   ],
   "metadata": {
    "collapsed": false,
    "ExecuteTime": {
     "end_time": "2023-10-11T18:00:00.637753784Z",
     "start_time": "2023-10-11T18:00:00.629383975Z"
    }
   }
  },
  {
   "cell_type": "code",
   "execution_count": 45,
   "outputs": [],
   "source": [
    "images = sorted(images)"
   ],
   "metadata": {
    "collapsed": false,
    "ExecuteTime": {
     "end_time": "2023-10-11T18:00:01.495172099Z",
     "start_time": "2023-10-11T18:00:01.492775694Z"
    }
   }
  },
  {
   "cell_type": "code",
   "execution_count": 46,
   "outputs": [],
   "source": [
    "paths = []\n",
    "for patients in data_label['Patient-ID']:\n",
    "    for image in images:\n",
    "        if image.find(patients) != -1:\n",
    "            paths.append(image)\n",
    "\n",
    "path_toadd = {'Path':paths}\n",
    "paths_df = pd.DataFrame(path_toadd)\n",
    "data_label = pd.concat([data_label, paths_df], axis=1)"
   ],
   "metadata": {
    "collapsed": false,
    "ExecuteTime": {
     "end_time": "2023-10-11T18:00:02.731050924Z",
     "start_time": "2023-10-11T18:00:02.729180839Z"
    }
   }
  },
  {
   "cell_type": "code",
   "execution_count": 47,
   "outputs": [],
   "source": [
    "labels_5yr = np.array(data_label['Recurrence (5y)'], dtype=np.int64)\n",
    "labels_2yr = np.array(data_label['Recurrence (2y)'], dtype=np.int64)"
   ],
   "metadata": {
    "collapsed": false,
    "ExecuteTime": {
     "end_time": "2023-10-11T18:00:03.527009355Z",
     "start_time": "2023-10-11T18:00:03.525090775Z"
    }
   }
  },
  {
   "cell_type": "code",
   "execution_count": 128,
   "outputs": [],
   "source": [
    "from sklearn.model_selection import train_test_split\n",
    "\n",
    "x_train2, x_val2, y_train2, y_val2 = train_test_split(data_label, labels_2yr, test_size=0.3)"
   ],
   "metadata": {
    "collapsed": false,
    "ExecuteTime": {
     "end_time": "2023-10-11T20:02:16.151298981Z",
     "start_time": "2023-10-11T20:02:16.104125162Z"
    }
   }
  },
  {
   "cell_type": "code",
   "execution_count": 129,
   "outputs": [
    {
     "name": "stdout",
     "output_type": "stream",
     "text": [
      "117\n",
      "51\n",
      "34\n"
     ]
    }
   ],
   "source": [
    "print(len(x_train2))\n",
    "print(len(x_val2))\n",
    "print(len(x_test2))"
   ],
   "metadata": {
    "collapsed": false,
    "ExecuteTime": {
     "end_time": "2023-10-11T20:02:16.707301079Z",
     "start_time": "2023-10-11T20:02:16.698201571Z"
    }
   }
  },
  {
   "cell_type": "code",
   "execution_count": 151,
   "outputs": [
    {
     "name": "stdout",
     "output_type": "stream",
     "text": [
      "15\n"
     ]
    }
   ],
   "source": [
    "import nibabel as nib\n",
    "import matplotlib.pyplot as plt\n",
    "min_z = 10000\n",
    "for paths in data_label['Path']:\n",
    "    test_load = nib.load(paths).get_fdata()\n",
    "    if test_load.shape[2] < min_z:\n",
    "        min_z = test_load.shape[2]\n",
    "\n",
    "print(min_z)"
   ],
   "metadata": {
    "collapsed": false,
    "ExecuteTime": {
     "end_time": "2023-10-11T21:02:46.075136775Z",
     "start_time": "2023-10-11T21:02:24.280803582Z"
    }
   }
  },
  {
   "cell_type": "code",
   "execution_count": 177,
   "outputs": [],
   "source": [
    "# define transforms\n",
    "train_transforms = Compose([ScaleIntensity(), EnsureChannelFirst(), Resize((512, 512, 96)), RandRotate90()])\n",
    "val_transforms = Compose([ScaleIntensity(), EnsureChannelFirst(), Resize((512, 512, 96))])"
   ],
   "metadata": {
    "collapsed": false,
    "ExecuteTime": {
     "end_time": "2023-10-11T21:10:29.930684074Z",
     "start_time": "2023-10-11T21:10:29.884431009Z"
    }
   }
  },
  {
   "cell_type": "code",
   "execution_count": 178,
   "outputs": [
    {
     "name": "stdout",
     "output_type": "stream",
     "text": [
      "<class 'monai.data.meta_tensor.MetaTensor'> torch.Size([2, 1, 512, 512, 96]) tensor([1, 1])\n"
     ]
    }
   ],
   "source": [
    "# define image dataset, data loader\n",
    "check_ds = ImageDataset(image_files=np.array(x_train2['Path']), labels=np.array(y_train2), transform=train_transforms)\n",
    "check_loader = DataLoader(check_ds, batch_size=2, num_workers=2, pin_memory=torch.cuda.is_available())\n",
    "im, label = monai.utils.misc.first(check_loader)\n",
    "print(type(im), im.shape, label)"
   ],
   "metadata": {
    "collapsed": false,
    "ExecuteTime": {
     "end_time": "2023-10-11T21:10:34.790318392Z",
     "start_time": "2023-10-11T21:10:30.618438674Z"
    }
   }
  },
  {
   "cell_type": "code",
   "execution_count": 179,
   "outputs": [],
   "source": [
    "# create DenseNet121, CrossEntropyLoss and Adam optimizer\n",
    "device = torch.device(\"cuda\" if torch.cuda.is_available() else \"cpu\")\n",
    "net = monai.networks.nets.DenseNet264(spatial_dims=3, in_channels=1, out_channels=2).to(device)\n",
    "loss = torch.nn.CrossEntropyLoss()\n",
    "lr = 1e-5\n",
    "opt = torch.optim.Adam(net.parameters(), lr)"
   ],
   "metadata": {
    "collapsed": false,
    "ExecuteTime": {
     "end_time": "2023-10-11T21:10:36.112862633Z",
     "start_time": "2023-10-11T21:10:35.913894666Z"
    }
   }
  },
  {
   "cell_type": "code",
   "execution_count": 180,
   "outputs": [],
   "source": [
    "# Ignite trainer expects batch=(img, label) and returns output=loss at every iteration,\n",
    "# user can add output_transform to return other values, like: y_pred, y, etc.\n",
    "trainer = create_supervised_trainer(net, opt, loss, device, False)"
   ],
   "metadata": {
    "collapsed": false,
    "ExecuteTime": {
     "end_time": "2023-10-11T21:10:37.161808642Z",
     "start_time": "2023-10-11T21:10:37.150354355Z"
    }
   }
  },
  {
   "cell_type": "code",
   "execution_count": 181,
   "outputs": [
    {
     "data": {
      "text/plain": "<ignite.engine.events.RemovableEventHandle at 0x7f8ec7a315d0>"
     },
     "execution_count": 181,
     "metadata": {},
     "output_type": "execute_result"
    }
   ],
   "source": [
    "\n",
    "# adding checkpoint handler to save models (network params and optimizer stats) during training\n",
    "checkpoint_handler = ModelCheckpoint(\"./runs_array/\", \"net\", n_saved=10, require_empty=False)\n",
    "trainer.add_event_handler(\n",
    "    event_name=Events.EPOCH_COMPLETED, handler=checkpoint_handler, to_save={\"net\": net, \"opt\": opt}\n",
    ")"
   ],
   "metadata": {
    "collapsed": false,
    "ExecuteTime": {
     "end_time": "2023-10-11T21:10:38.516136439Z",
     "start_time": "2023-10-11T21:10:38.505371919Z"
    }
   }
  },
  {
   "cell_type": "code",
   "execution_count": 182,
   "outputs": [],
   "source": [
    "# StatsHandler prints loss at every iteration and print metrics at every epoch,\n",
    "# we don't set metrics for trainer here, so just print loss, user can also customize print functions\n",
    "# and can use output_transform to convert engine.state.output if it's not loss value\n",
    "train_stats_handler = StatsHandler(name=\"trainer\", output_transform=lambda x: x)\n",
    "train_stats_handler.attach(trainer)"
   ],
   "metadata": {
    "collapsed": false,
    "ExecuteTime": {
     "end_time": "2023-10-11T21:10:39.220366758Z",
     "start_time": "2023-10-11T21:10:39.198480280Z"
    }
   }
  },
  {
   "cell_type": "code",
   "execution_count": 183,
   "outputs": [],
   "source": [
    "# TensorBoardStatsHandler plots loss at every iteration and plots metrics at every epoch, same as StatsHandler\n",
    "train_tensorboard_stats_handler = TensorBoardStatsHandler(output_transform=lambda x: x)\n",
    "train_tensorboard_stats_handler.attach(trainer)"
   ],
   "metadata": {
    "collapsed": false,
    "ExecuteTime": {
     "end_time": "2023-10-11T21:10:39.787454109Z",
     "start_time": "2023-10-11T21:10:39.785868430Z"
    }
   }
  },
  {
   "cell_type": "code",
   "execution_count": 184,
   "outputs": [],
   "source": [
    "# set parameters for validation\n",
    "validation_every_n_epochs = 1"
   ],
   "metadata": {
    "collapsed": false,
    "ExecuteTime": {
     "end_time": "2023-10-11T21:10:40.332866968Z",
     "start_time": "2023-10-11T21:10:40.317268651Z"
    }
   }
  },
  {
   "cell_type": "code",
   "execution_count": 185,
   "outputs": [],
   "source": [
    "metric_name = \"Accuracy\"\n",
    "# add evaluation metric to the evaluator engine\n",
    "val_metrics = {metric_name: Accuracy()}\n",
    "# Ignite evaluator expects batch=(img, label) and returns output=(y_pred, y) at every iteration,\n",
    "# user can add output_transform to return other values\n",
    "evaluator = create_supervised_evaluator(net, val_metrics, device, True)\n"
   ],
   "metadata": {
    "collapsed": false,
    "ExecuteTime": {
     "end_time": "2023-10-11T21:10:40.915326826Z",
     "start_time": "2023-10-11T21:10:40.899006384Z"
    }
   }
  },
  {
   "cell_type": "code",
   "execution_count": 186,
   "outputs": [],
   "source": [
    "# add stats event handler to print validation stats via evaluator\n",
    "val_stats_handler = StatsHandler(\n",
    "    name=\"evaluator\",\n",
    "    output_transform=lambda x: None,  # no need to print loss value, so disable per iteration output\n",
    "    global_epoch_transform=lambda x: trainer.state.epoch,\n",
    ")  # fetch global epoch number from trainer\n",
    "val_stats_handler.attach(evaluator)"
   ],
   "metadata": {
    "collapsed": false,
    "ExecuteTime": {
     "end_time": "2023-10-11T21:10:41.509586826Z",
     "start_time": "2023-10-11T21:10:41.496472107Z"
    }
   }
  },
  {
   "cell_type": "code",
   "execution_count": 187,
   "outputs": [
    {
     "data": {
      "text/plain": "<ignite.engine.events.RemovableEventHandle at 0x7f8ecf394350>"
     },
     "execution_count": 187,
     "metadata": {},
     "output_type": "execute_result"
    }
   ],
   "source": [
    "# add early stopping handler to evaluator\n",
    "early_stopper = EarlyStopping(patience=4, score_function=stopping_fn_from_metric(metric_name), trainer=trainer)\n",
    "evaluator.add_event_handler(event_name=Events.EPOCH_COMPLETED, handler=early_stopper)"
   ],
   "metadata": {
    "collapsed": false,
    "ExecuteTime": {
     "end_time": "2023-10-11T21:10:43.416734677Z",
     "start_time": "2023-10-11T21:10:43.408662541Z"
    }
   }
  },
  {
   "cell_type": "code",
   "execution_count": 188,
   "outputs": [],
   "source": [
    "# create a validation data loader\n",
    "val_ds = ImageDataset(image_files=np.array(x_val2['Path']), labels=np.array(y_val2), transform=val_transforms)\n",
    "val_loader = DataLoader(val_ds, batch_size=2, num_workers=2, pin_memory=torch.cuda.is_available())"
   ],
   "metadata": {
    "collapsed": false,
    "ExecuteTime": {
     "end_time": "2023-10-11T21:10:43.947447461Z",
     "start_time": "2023-10-11T21:10:43.937437086Z"
    }
   }
  },
  {
   "cell_type": "code",
   "execution_count": 189,
   "outputs": [],
   "source": [
    "@trainer.on(Events.EPOCH_COMPLETED(every=validation_every_n_epochs))\n",
    "def run_validation(engine):\n",
    "    evaluator.run(val_loader)"
   ],
   "metadata": {
    "collapsed": false,
    "ExecuteTime": {
     "end_time": "2023-10-11T21:10:44.452484403Z",
     "start_time": "2023-10-11T21:10:44.448047109Z"
    }
   }
  },
  {
   "cell_type": "code",
   "execution_count": 190,
   "outputs": [],
   "source": [
    "# create a training data loader\n",
    "train_ds = ImageDataset(image_files=np.array(x_train2['Path']), labels=np.array(y_train2), transform=train_transforms)\n",
    "train_loader = DataLoader(train_ds, batch_size=2, shuffle=True, num_workers=2, pin_memory=torch.cuda.is_available())"
   ],
   "metadata": {
    "collapsed": false,
    "ExecuteTime": {
     "end_time": "2023-10-11T21:10:45.031022371Z",
     "start_time": "2023-10-11T21:10:45.023893113Z"
    }
   }
  },
  {
   "cell_type": "code",
   "execution_count": null,
   "outputs": [
    {
     "name": "stdout",
     "output_type": "stream",
     "text": [
      "INFO:ignite.engine.engine.Engine:Engine run starting with max_epochs=30.\n",
      "2023-10-11 17:11:23,776 - INFO - Epoch: 1/30, Iter: 1/59 -- Loss: 0.5995 \n",
      "2023-10-11 17:11:58,249 - INFO - Epoch: 1/30, Iter: 2/59 -- Loss: 0.8138 \n",
      "2023-10-11 17:12:32,216 - INFO - Epoch: 1/30, Iter: 3/59 -- Loss: 0.8121 \n",
      "2023-10-11 17:13:06,317 - INFO - Epoch: 1/30, Iter: 4/59 -- Loss: 0.6760 \n",
      "2023-10-11 17:13:40,320 - INFO - Epoch: 1/30, Iter: 5/59 -- Loss: 0.6942 \n",
      "2023-10-11 17:14:14,087 - INFO - Epoch: 1/30, Iter: 6/59 -- Loss: 0.7948 \n",
      "2023-10-11 17:14:48,311 - INFO - Epoch: 1/30, Iter: 7/59 -- Loss: 0.7869 \n",
      "2023-10-11 17:15:22,449 - INFO - Epoch: 1/30, Iter: 8/59 -- Loss: 0.6264 \n",
      "2023-10-11 17:15:56,502 - INFO - Epoch: 1/30, Iter: 9/59 -- Loss: 0.5705 \n",
      "2023-10-11 17:16:30,366 - INFO - Epoch: 1/30, Iter: 10/59 -- Loss: 0.7101 \n",
      "2023-10-11 17:17:04,008 - INFO - Epoch: 1/30, Iter: 11/59 -- Loss: 0.6541 \n",
      "2023-10-11 17:17:37,729 - INFO - Epoch: 1/30, Iter: 12/59 -- Loss: 0.6240 \n",
      "2023-10-11 17:18:12,022 - INFO - Epoch: 1/30, Iter: 13/59 -- Loss: 0.6568 \n",
      "2023-10-11 17:18:45,811 - INFO - Epoch: 1/30, Iter: 14/59 -- Loss: 0.7227 \n",
      "2023-10-11 17:19:19,809 - INFO - Epoch: 1/30, Iter: 15/59 -- Loss: 0.4184 \n",
      "2023-10-11 17:19:53,740 - INFO - Epoch: 1/30, Iter: 16/59 -- Loss: 0.7522 \n",
      "2023-10-11 17:20:27,891 - INFO - Epoch: 1/30, Iter: 17/59 -- Loss: 0.4439 \n",
      "2023-10-11 17:21:01,794 - INFO - Epoch: 1/30, Iter: 18/59 -- Loss: 0.7676 \n",
      "2023-10-11 17:21:35,787 - INFO - Epoch: 1/30, Iter: 19/59 -- Loss: 0.7344 \n",
      "2023-10-11 17:22:10,050 - INFO - Epoch: 1/30, Iter: 20/59 -- Loss: 0.8473 \n",
      "2023-10-11 17:22:44,526 - INFO - Epoch: 1/30, Iter: 21/59 -- Loss: 0.7279 \n",
      "2023-10-11 17:23:18,481 - INFO - Epoch: 1/30, Iter: 22/59 -- Loss: 0.7067 \n",
      "2023-10-11 17:23:52,463 - INFO - Epoch: 1/30, Iter: 23/59 -- Loss: 0.5886 \n",
      "2023-10-11 17:24:26,183 - INFO - Epoch: 1/30, Iter: 24/59 -- Loss: 0.7006 \n",
      "2023-10-11 17:25:00,353 - INFO - Epoch: 1/30, Iter: 25/59 -- Loss: 0.6775 \n",
      "2023-10-11 17:25:34,278 - INFO - Epoch: 1/30, Iter: 26/59 -- Loss: 0.6973 \n",
      "2023-10-11 17:26:08,294 - INFO - Epoch: 1/30, Iter: 27/59 -- Loss: 0.2599 \n",
      "2023-10-11 17:26:42,138 - INFO - Epoch: 1/30, Iter: 28/59 -- Loss: 0.8687 \n",
      "2023-10-11 17:27:16,218 - INFO - Epoch: 1/30, Iter: 29/59 -- Loss: 0.8346 \n",
      "2023-10-11 17:27:49,873 - INFO - Epoch: 1/30, Iter: 30/59 -- Loss: 0.8891 \n",
      "2023-10-11 17:28:23,759 - INFO - Epoch: 1/30, Iter: 31/59 -- Loss: 0.8076 \n",
      "2023-10-11 17:28:57,684 - INFO - Epoch: 1/30, Iter: 32/59 -- Loss: 0.7994 \n",
      "2023-10-11 17:29:31,639 - INFO - Epoch: 1/30, Iter: 33/59 -- Loss: 0.7384 \n",
      "2023-10-11 17:30:05,347 - INFO - Epoch: 1/30, Iter: 34/59 -- Loss: 0.6635 \n",
      "2023-10-11 17:30:39,277 - INFO - Epoch: 1/30, Iter: 35/59 -- Loss: 0.4711 \n",
      "2023-10-11 17:31:13,227 - INFO - Epoch: 1/30, Iter: 36/59 -- Loss: 0.5563 \n",
      "2023-10-11 17:31:47,194 - INFO - Epoch: 1/30, Iter: 37/59 -- Loss: 0.6167 \n",
      "2023-10-11 17:32:20,922 - INFO - Epoch: 1/30, Iter: 38/59 -- Loss: 0.6933 \n",
      "2023-10-11 17:32:54,755 - INFO - Epoch: 1/30, Iter: 39/59 -- Loss: 1.0970 \n",
      "2023-10-11 17:33:28,456 - INFO - Epoch: 1/30, Iter: 40/59 -- Loss: 0.5922 \n",
      "2023-10-11 17:34:02,407 - INFO - Epoch: 1/30, Iter: 41/59 -- Loss: 0.5965 \n",
      "2023-10-11 17:34:36,401 - INFO - Epoch: 1/30, Iter: 42/59 -- Loss: 0.6040 \n",
      "2023-10-11 17:35:10,224 - INFO - Epoch: 1/30, Iter: 43/59 -- Loss: 0.5675 \n",
      "2023-10-11 17:35:44,065 - INFO - Epoch: 1/30, Iter: 44/59 -- Loss: 0.5745 \n",
      "2023-10-11 17:36:17,582 - INFO - Epoch: 1/30, Iter: 45/59 -- Loss: 0.5691 \n",
      "2023-10-11 17:36:51,420 - INFO - Epoch: 1/30, Iter: 46/59 -- Loss: 0.6685 \n",
      "2023-10-11 17:37:25,538 - INFO - Epoch: 1/30, Iter: 47/59 -- Loss: 0.6431 \n",
      "2023-10-11 17:37:59,552 - INFO - Epoch: 1/30, Iter: 48/59 -- Loss: 0.5321 \n",
      "2023-10-11 17:38:33,488 - INFO - Epoch: 1/30, Iter: 49/59 -- Loss: 0.6360 \n",
      "2023-10-11 17:39:07,660 - INFO - Epoch: 1/30, Iter: 50/59 -- Loss: 0.9215 \n",
      "2023-10-11 17:39:41,899 - INFO - Epoch: 1/30, Iter: 51/59 -- Loss: 0.9360 \n",
      "2023-10-11 17:40:15,878 - INFO - Epoch: 1/30, Iter: 52/59 -- Loss: 0.5325 \n",
      "2023-10-11 17:40:49,570 - INFO - Epoch: 1/30, Iter: 53/59 -- Loss: 0.7489 \n",
      "2023-10-11 17:41:23,286 - INFO - Epoch: 1/30, Iter: 54/59 -- Loss: 0.5139 \n",
      "2023-10-11 17:41:57,133 - INFO - Epoch: 1/30, Iter: 55/59 -- Loss: 0.9331 \n",
      "2023-10-11 17:42:31,019 - INFO - Epoch: 1/30, Iter: 56/59 -- Loss: 0.5013 \n",
      "2023-10-11 17:43:04,738 - INFO - Epoch: 1/30, Iter: 57/59 -- Loss: 0.4995 \n",
      "2023-10-11 17:43:38,828 - INFO - Epoch: 1/30, Iter: 58/59 -- Loss: 0.9667 \n",
      "2023-10-11 17:43:52,611 - INFO - Epoch: 1/30, Iter: 59/59 -- Loss: 0.9434 \n",
      "INFO:ignite.engine.engine.Engine:Engine run starting with max_epochs=1.\n",
      "2023-10-11 17:47:12,740 - INFO - Epoch[1] Metrics -- Accuracy: 0.6667 \n",
      "INFO:ignite.engine.engine.Engine:Epoch[1] Complete. Time taken: 00:03:19.544\n",
      "INFO:ignite.engine.engine.Engine:Engine run complete. Time taken: 00:03:19.769\n",
      "INFO:ignite.engine.engine.Engine:Epoch[1] Complete. Time taken: 00:36:26.539\n",
      "2023-10-11 17:47:51,172 - INFO - Epoch: 2/30, Iter: 1/59 -- Loss: 0.6899 \n",
      "2023-10-11 17:48:26,202 - INFO - Epoch: 2/30, Iter: 2/59 -- Loss: 0.9608 \n",
      "2023-10-11 17:49:00,922 - INFO - Epoch: 2/30, Iter: 3/59 -- Loss: 0.5444 \n",
      "2023-10-11 17:49:34,795 - INFO - Epoch: 2/30, Iter: 4/59 -- Loss: 0.7285 \n",
      "2023-10-11 17:50:08,850 - INFO - Epoch: 2/30, Iter: 5/59 -- Loss: 0.5520 \n",
      "2023-10-11 17:50:43,181 - INFO - Epoch: 2/30, Iter: 6/59 -- Loss: 0.4908 \n",
      "2023-10-11 17:51:17,009 - INFO - Epoch: 2/30, Iter: 7/59 -- Loss: 0.5041 \n",
      "2023-10-11 17:51:51,034 - INFO - Epoch: 2/30, Iter: 8/59 -- Loss: 0.5066 \n",
      "2023-10-11 17:52:24,709 - INFO - Epoch: 2/30, Iter: 9/59 -- Loss: 0.5147 \n",
      "2023-10-11 17:52:59,275 - INFO - Epoch: 2/30, Iter: 10/59 -- Loss: 0.6821 \n",
      "2023-10-11 17:53:32,651 - INFO - Epoch: 2/30, Iter: 11/59 -- Loss: 0.8827 \n",
      "2023-10-11 17:54:06,500 - INFO - Epoch: 2/30, Iter: 12/59 -- Loss: 0.5333 \n",
      "2023-10-11 17:54:40,316 - INFO - Epoch: 2/30, Iter: 13/59 -- Loss: 0.5021 \n",
      "2023-10-11 17:55:14,195 - INFO - Epoch: 2/30, Iter: 14/59 -- Loss: 0.9632 \n",
      "2023-10-11 17:55:48,335 - INFO - Epoch: 2/30, Iter: 15/59 -- Loss: 0.4741 \n",
      "2023-10-11 17:56:22,329 - INFO - Epoch: 2/30, Iter: 16/59 -- Loss: 0.7130 \n",
      "2023-10-11 17:56:56,413 - INFO - Epoch: 2/30, Iter: 17/59 -- Loss: 0.6380 \n",
      "2023-10-11 17:57:30,258 - INFO - Epoch: 2/30, Iter: 18/59 -- Loss: 0.9907 \n",
      "2023-10-11 17:58:03,953 - INFO - Epoch: 2/30, Iter: 19/59 -- Loss: 0.4714 \n",
      "2023-10-11 17:58:38,144 - INFO - Epoch: 2/30, Iter: 20/59 -- Loss: 0.4873 \n",
      "2023-10-11 17:59:12,270 - INFO - Epoch: 2/30, Iter: 21/59 -- Loss: 0.4840 \n",
      "2023-10-11 17:59:45,994 - INFO - Epoch: 2/30, Iter: 22/59 -- Loss: 0.4770 \n",
      "2023-10-11 18:00:20,026 - INFO - Epoch: 2/30, Iter: 23/59 -- Loss: 0.7693 \n",
      "2023-10-11 18:00:54,010 - INFO - Epoch: 2/30, Iter: 24/59 -- Loss: 0.4653 \n",
      "2023-10-11 18:01:27,768 - INFO - Epoch: 2/30, Iter: 25/59 -- Loss: 0.6619 \n",
      "2023-10-11 18:02:01,574 - INFO - Epoch: 2/30, Iter: 26/59 -- Loss: 0.7435 \n",
      "2023-10-11 18:02:35,015 - INFO - Epoch: 2/30, Iter: 27/59 -- Loss: 0.5881 \n",
      "2023-10-11 18:03:08,359 - INFO - Epoch: 2/30, Iter: 28/59 -- Loss: 0.7490 \n",
      "2023-10-11 18:03:42,619 - INFO - Epoch: 2/30, Iter: 29/59 -- Loss: 0.9942 \n",
      "2023-10-11 18:04:16,555 - INFO - Epoch: 2/30, Iter: 30/59 -- Loss: 0.4624 \n",
      "2023-10-11 18:04:50,421 - INFO - Epoch: 2/30, Iter: 31/59 -- Loss: 0.4458 \n",
      "2023-10-11 18:05:23,975 - INFO - Epoch: 2/30, Iter: 32/59 -- Loss: 0.4806 \n",
      "2023-10-11 18:05:58,073 - INFO - Epoch: 2/30, Iter: 33/59 -- Loss: 1.0124 \n",
      "2023-10-11 18:06:31,406 - INFO - Epoch: 2/30, Iter: 34/59 -- Loss: 0.4516 \n",
      "2023-10-11 18:07:05,480 - INFO - Epoch: 2/30, Iter: 35/59 -- Loss: 0.4618 \n",
      "2023-10-11 18:07:39,333 - INFO - Epoch: 2/30, Iter: 36/59 -- Loss: 1.0138 \n",
      "2023-10-11 18:08:12,943 - INFO - Epoch: 2/30, Iter: 37/59 -- Loss: 0.7143 \n",
      "2023-10-11 18:08:46,629 - INFO - Epoch: 2/30, Iter: 38/59 -- Loss: 0.7561 \n",
      "2023-10-11 18:09:20,610 - INFO - Epoch: 2/30, Iter: 39/59 -- Loss: 0.4646 \n",
      "2023-10-11 18:09:54,655 - INFO - Epoch: 2/30, Iter: 40/59 -- Loss: 0.9057 \n",
      "2023-10-11 18:10:28,517 - INFO - Epoch: 2/30, Iter: 41/59 -- Loss: 0.4735 \n",
      "2023-10-11 18:11:02,248 - INFO - Epoch: 2/30, Iter: 42/59 -- Loss: 0.7560 \n",
      "2023-10-11 18:11:36,135 - INFO - Epoch: 2/30, Iter: 43/59 -- Loss: 0.4458 \n",
      "2023-10-11 18:12:09,635 - INFO - Epoch: 2/30, Iter: 44/59 -- Loss: 0.4528 \n",
      "2023-10-11 18:12:43,151 - INFO - Epoch: 2/30, Iter: 45/59 -- Loss: 0.7585 \n",
      "2023-10-11 18:13:16,930 - INFO - Epoch: 2/30, Iter: 46/59 -- Loss: 0.4489 \n",
      "2023-10-11 18:13:50,605 - INFO - Epoch: 2/30, Iter: 47/59 -- Loss: 0.6866 \n",
      "2023-10-11 18:14:24,488 - INFO - Epoch: 2/30, Iter: 48/59 -- Loss: 1.0566 \n",
      "2023-10-11 18:14:58,132 - INFO - Epoch: 2/30, Iter: 49/59 -- Loss: 1.0499 \n",
      "2023-10-11 18:15:32,152 - INFO - Epoch: 2/30, Iter: 50/59 -- Loss: 0.7495 \n",
      "2023-10-11 18:16:06,311 - INFO - Epoch: 2/30, Iter: 51/59 -- Loss: 0.4645 \n",
      "2023-10-11 18:16:40,400 - INFO - Epoch: 2/30, Iter: 52/59 -- Loss: 0.4996 \n",
      "2023-10-11 18:17:14,884 - INFO - Epoch: 2/30, Iter: 53/59 -- Loss: 0.4483 \n",
      "2023-10-11 18:17:48,888 - INFO - Epoch: 2/30, Iter: 54/59 -- Loss: 0.4505 \n",
      "2023-10-11 18:18:23,074 - INFO - Epoch: 2/30, Iter: 55/59 -- Loss: 0.6107 \n",
      "2023-10-11 18:18:56,413 - INFO - Epoch: 2/30, Iter: 56/59 -- Loss: 0.7555 \n",
      "2023-10-11 18:19:30,660 - INFO - Epoch: 2/30, Iter: 57/59 -- Loss: 0.7202 \n",
      "2023-10-11 18:20:05,102 - INFO - Epoch: 2/30, Iter: 58/59 -- Loss: 0.8861 \n",
      "2023-10-11 18:20:18,025 - INFO - Epoch: 2/30, Iter: 59/59 -- Loss: 0.4377 \n",
      "INFO:ignite.engine.engine.Engine:Engine run starting with max_epochs=1.\n"
     ]
    }
   ],
   "source": [
    "train_epochs = 30\n",
    "state = trainer.run(train_loader, train_epochs)\n",
    "print(state)"
   ],
   "metadata": {
    "collapsed": false,
    "is_executing": true,
    "ExecuteTime": {
     "start_time": "2023-10-11T21:10:46.333389703Z"
    }
   }
  },
  {
   "cell_type": "code",
   "execution_count": 145,
   "outputs": [
    {
     "name": "stdout",
     "output_type": "stream",
     "text": [
      "{}\n"
     ]
    }
   ],
   "source": [],
   "metadata": {
    "collapsed": false,
    "ExecuteTime": {
     "end_time": "2023-10-11T20:22:06.138762705Z",
     "start_time": "2023-10-11T20:22:06.093757581Z"
    }
   }
  },
  {
   "cell_type": "code",
   "execution_count": null,
   "outputs": [],
   "source": [],
   "metadata": {
    "collapsed": false
   }
  }
 ],
 "metadata": {
  "kernelspec": {
   "display_name": "Python 3",
   "language": "python",
   "name": "python3"
  },
  "language_info": {
   "codemirror_mode": {
    "name": "ipython",
    "version": 2
   },
   "file_extension": ".py",
   "mimetype": "text/x-python",
   "name": "python",
   "nbconvert_exporter": "python",
   "pygments_lexer": "ipython2",
   "version": "2.7.6"
  }
 },
 "nbformat": 4,
 "nbformat_minor": 0
}
