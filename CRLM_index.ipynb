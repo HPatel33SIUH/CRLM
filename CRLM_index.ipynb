{
 "cells": [
  {
   "cell_type": "code",
   "execution_count": 14,
   "metadata": {},
   "outputs": [
    {
     "name": "stdout",
     "output_type": "stream",
     "text": [
      "MONAI version: 1.3.0\n",
      "Numpy version: 1.24.3\n",
      "Pytorch version: 2.1.0\n",
      "MONAI flags: HAS_EXT = False, USE_COMPILED = False, USE_META_DICT = False\n",
      "MONAI rev id: 865972f7a791bf7b42efbcd87c8402bd865b329e\n",
      "MONAI __file__: c:\\Users\\<username>\\anaconda3\\Lib\\site-packages\\monai\\__init__.py\n",
      "\n",
      "Optional dependencies:\n",
      "Pytorch Ignite version: 0.4.12\n",
      "ITK version: NOT INSTALLED or UNKNOWN VERSION.\n",
      "Nibabel version: 5.1.0\n",
      "scikit-image version: 0.20.0\n",
      "scipy version: 1.11.1\n",
      "Pillow version: 9.4.0\n",
      "Tensorboard version: 2.14.1\n",
      "gdown version: 4.7.1\n",
      "TorchVision version: 0.16.0\n",
      "tqdm version: 4.65.0\n",
      "lmdb version: 1.4.1\n",
      "psutil version: 5.9.0\n",
      "pandas version: 2.0.3\n",
      "einops version: 0.7.0\n",
      "transformers version: 4.32.1\n",
      "mlflow version: 2.7.1\n",
      "pynrrd version: 1.0.0\n",
      "clearml version: 1.13.1\n",
      "\n",
      "For details about installing the optional dependencies, please visit:\n",
      "    https://docs.monai.io/en/latest/installation.html#installing-the-recommended-dependencies\n",
      "\n"
     ]
    }
   ],
   "source": [
    "import logging\n",
    "import os\n",
    "os.environ[\"KMP_DUPLICATE_LIB_OK\"]=\"TRUE\"\n",
    "import sys\n",
    "import numpy as np\n",
    "import pandas as pd\n",
    "import torch\n",
    "from ignite.engine import Events, create_supervised_evaluator, create_supervised_trainer\n",
    "from ignite.handlers import EarlyStopping, ModelCheckpoint\n",
    "from ignite.metrics import Accuracy\n",
    "\n",
    "import monai\n",
    "import tensorboard\n",
    "from monai.data import ImageDataset, decollate_batch, DataLoader\n",
    "from monai.handlers import StatsHandler, TensorBoardStatsHandler, stopping_fn_from_metric\n",
    "from monai.transforms import EnsureChannelFirst, Compose, RandRotate90, Resize, ScaleIntensity\n",
    "\n",
    "monai.config.print_config()\n",
    "logging.basicConfig(stream=sys.stdout, level=logging.INFO)"
   ]
  },
  {
   "cell_type": "code",
   "execution_count": 49,
   "metadata": {
    "ExecuteTime": {
     "end_time": "2023-10-11T17:59:58.796573647Z",
     "start_time": "2023-10-11T17:59:58.789556866Z"
    },
    "collapsed": false
   },
   "outputs": [
    {
     "name": "stdout",
     "output_type": "stream",
     "text": [
      "CRLM-CT-1002\n"
     ]
    },
    {
     "data": {
      "text/plain": [
       "'./LiverSegmentations\\\\CRLM-CT-1002'"
      ]
     },
     "execution_count": 49,
     "metadata": {},
     "output_type": "execute_result"
    }
   ],
   "source": [
    "#list of image paths\n",
    "imgFolder = './LiverSegmentations'\n",
    "images = []\n",
    "for folders in os.listdir(imgFolder):\n",
    "    for files in os.listdir(os.path.join(imgFolder, folders)):\n",
    "        print(os.path.join(imgFolder, folders))\n",
    "        imgPath = os.path.join(imgFolder, folders, files)\n",
    "        images.append(imgPath)\n",
    "\n",
    "folders = os.listdir(imgFolder)[1]\n",
    "print(folders)\n",
    "os.path.join(imgFolder, folders)"
   ]
  },
  {
   "cell_type": "code",
   "execution_count": 16,
   "metadata": {
    "ExecuteTime": {
     "end_time": "2023-10-11T17:59:59.746559208Z",
     "start_time": "2023-10-11T17:59:59.717653329Z"
    },
    "collapsed": false
   },
   "outputs": [],
   "source": [
    "#extract labels\n",
    "labelPath = \"./Colorectal Liver Metastases Clinical data April 2023.xlsx\"\n",
    "data = pd.read_excel(labelPath, sheet_name=\"CRLM (n=168)\")\n",
    "rec_5yr = data['Recurrence (5y)']\n",
    "rec_2yr = data['Recurrence (2y)']\n",
    "data_id = data['Patient-ID']\n",
    "data_label = pd.concat([data_id, rec_2yr, rec_5yr], axis=1)"
   ]
  },
  {
   "cell_type": "code",
   "execution_count": 17,
   "metadata": {
    "ExecuteTime": {
     "end_time": "2023-10-11T18:00:00.637753784Z",
     "start_time": "2023-10-11T18:00:00.629383975Z"
    },
    "collapsed": false
   },
   "outputs": [
    {
     "name": "stdout",
     "output_type": "stream",
     "text": [
      "     Patient-ID  Recurrence (2y)  Recurrence (5y)\n",
      "0  CRLM-CT-1001                0                0\n",
      "1  CRLM-CT-1002                1                1\n",
      "2  CRLM-CT-1003                0                0\n",
      "3  CRLM-CT-1004                0                0\n",
      "4  CRLM-CT-1005                0                1\n"
     ]
    }
   ],
   "source": [
    "print(data_label.head())"
   ]
  },
  {
   "cell_type": "code",
   "execution_count": 41,
   "metadata": {
    "ExecuteTime": {
     "end_time": "2023-10-11T18:00:01.495172099Z",
     "start_time": "2023-10-11T18:00:01.492775694Z"
    },
    "collapsed": false
   },
   "outputs": [
    {
     "name": "stdout",
     "output_type": "stream",
     "text": [
      "[]\n"
     ]
    }
   ],
   "source": [
    "images = sorted(images)"
   ]
  },
  {
   "cell_type": "code",
   "execution_count": 19,
   "metadata": {
    "ExecuteTime": {
     "end_time": "2023-10-11T18:00:02.731050924Z",
     "start_time": "2023-10-11T18:00:02.729180839Z"
    },
    "collapsed": false
   },
   "outputs": [],
   "source": [
    "paths = []\n",
    "for patients in data_label['Patient-ID']:\n",
    "    for image in images:\n",
    "        if image.find(patients) != -1:\n",
    "            paths.append(image)\n",
    "\n",
    "path_toadd = {'Path':paths}\n",
    "paths_df = pd.DataFrame(path_toadd)\n",
    "data_label = pd.concat([data_label, paths_df], axis=1)"
   ]
  },
  {
   "cell_type": "code",
   "execution_count": 20,
   "metadata": {
    "ExecuteTime": {
     "end_time": "2023-10-11T18:00:03.527009355Z",
     "start_time": "2023-10-11T18:00:03.525090775Z"
    },
    "collapsed": false
   },
   "outputs": [],
   "source": [
    "labels_5yr = np.array(data_label['Recurrence (5y)'], dtype=np.int64)\n",
    "labels_2yr = np.array(data_label['Recurrence (2y)'], dtype=np.int64)"
   ]
  },
  {
   "cell_type": "code",
   "execution_count": 21,
   "metadata": {
    "ExecuteTime": {
     "end_time": "2023-10-11T20:02:16.151298981Z",
     "start_time": "2023-10-11T20:02:16.104125162Z"
    },
    "collapsed": false
   },
   "outputs": [],
   "source": [
    "from sklearn.model_selection import train_test_split\n",
    "\n",
    "x_train2, x_val2, y_train2, y_val2 = train_test_split(data_label, labels_2yr, test_size=0.3)"
   ]
  },
  {
   "cell_type": "code",
   "execution_count": 40,
   "metadata": {
    "ExecuteTime": {
     "end_time": "2023-10-11T20:02:16.707301079Z",
     "start_time": "2023-10-11T20:02:16.698201571Z"
    },
    "collapsed": false
   },
   "outputs": [
    {
     "name": "stdout",
     "output_type": "stream",
     "text": [
      "117\n",
      "51\n",
      "     Patient-ID  Recurrence (2y)  Recurrence (5y)  Path\n",
      "0  CRLM-CT-1001                0                0   NaN\n",
      "1  CRLM-CT-1002                1                1   NaN\n",
      "2  CRLM-CT-1003                0                0   NaN\n",
      "3  CRLM-CT-1004                0                0   NaN\n",
      "4  CRLM-CT-1005                0                1   NaN\n"
     ]
    }
   ],
   "source": [
    "print(len(x_train2))\n",
    "print(len(x_val2))\n",
    "print(data_label.head())"
   ]
  },
  {
   "cell_type": "code",
   "execution_count": 23,
   "metadata": {
    "ExecuteTime": {
     "end_time": "2023-10-11T21:10:29.930684074Z",
     "start_time": "2023-10-11T21:10:29.884431009Z"
    },
    "collapsed": false
   },
   "outputs": [],
   "source": [
    "# define transforms\n",
    "train_transforms = Compose([ScaleIntensity(), EnsureChannelFirst(), Resize((512, 512, 96)), RandRotate90()])\n",
    "val_transforms = Compose([ScaleIntensity(), EnsureChannelFirst(), Resize((512, 512, 96))])"
   ]
  },
  {
   "cell_type": "code",
   "execution_count": 24,
   "metadata": {
    "ExecuteTime": {
     "end_time": "2023-10-11T21:10:34.790318392Z",
     "start_time": "2023-10-11T21:10:30.618438674Z"
    },
    "collapsed": false
   },
   "outputs": [
    {
     "ename": "TypeError",
     "evalue": "Caught TypeError in DataLoader worker process 0.\nOriginal Traceback (most recent call last):\n  File \"c:\\Users\\HPatel33\\anaconda3\\Lib\\site-packages\\torch\\utils\\data\\_utils\\worker.py\", line 308, in _worker_loop\n    data = fetcher.fetch(index)\n           ^^^^^^^^^^^^^^^^^^^^\n  File \"c:\\Users\\HPatel33\\anaconda3\\Lib\\site-packages\\torch\\utils\\data\\_utils\\fetch.py\", line 51, in fetch\n    data = [self.dataset[idx] for idx in possibly_batched_index]\n           ^^^^^^^^^^^^^^^^^^^^^^^^^^^^^^^^^^^^^^^^^^^^^^^^^^^^^\n  File \"c:\\Users\\HPatel33\\anaconda3\\Lib\\site-packages\\torch\\utils\\data\\_utils\\fetch.py\", line 51, in <listcomp>\n    data = [self.dataset[idx] for idx in possibly_batched_index]\n            ~~~~~~~~~~~~^^^^^\n  File \"c:\\Users\\HPatel33\\anaconda3\\Lib\\site-packages\\monai\\data\\image_dataset.py\", line 108, in __getitem__\n    img = self.loader(self.image_files[index])\n          ^^^^^^^^^^^^^^^^^^^^^^^^^^^^^^^^^^^^\n  File \"c:\\Users\\HPatel33\\anaconda3\\Lib\\site-packages\\monai\\transforms\\io\\array.py\", line 245, in __call__\n    filename = tuple(\n               ^^^^^^\n  File \"c:\\Users\\HPatel33\\anaconda3\\Lib\\site-packages\\monai\\transforms\\io\\array.py\", line 246, in <genexpr>\n    f\"{Path(s).expanduser()}\" if self.expanduser else s for s in ensure_tuple(filename)  # allow Path objects\n       ^^^^^^^\n  File \"c:\\Users\\HPatel33\\anaconda3\\Lib\\pathlib.py\", line 871, in __new__\n    self = cls._from_parts(args)\n           ^^^^^^^^^^^^^^^^^^^^^\n  File \"c:\\Users\\HPatel33\\anaconda3\\Lib\\pathlib.py\", line 509, in _from_parts\n    drv, root, parts = self._parse_args(args)\n                       ^^^^^^^^^^^^^^^^^^^^^^\n  File \"c:\\Users\\HPatel33\\anaconda3\\Lib\\pathlib.py\", line 493, in _parse_args\n    a = os.fspath(a)\n        ^^^^^^^^^^^^\nTypeError: expected str, bytes or os.PathLike object, not float64\n",
     "output_type": "error",
     "traceback": [
      "\u001b[1;31m---------------------------------------------------------------------------\u001b[0m",
      "\u001b[1;31mTypeError\u001b[0m                                 Traceback (most recent call last)",
      "\u001b[1;32mc:\\Users\\HPatel33\\Documents\\GitHub\\CRLM\\CRLM_index.ipynb Cell 11\u001b[0m line \u001b[0;36m4\n\u001b[0;32m      <a href='vscode-notebook-cell:/c%3A/Users/HPatel33/Documents/GitHub/CRLM/CRLM_index.ipynb#X14sZmlsZQ%3D%3D?line=1'>2</a>\u001b[0m check_ds \u001b[39m=\u001b[39m ImageDataset(image_files\u001b[39m=\u001b[39mnp\u001b[39m.\u001b[39marray(x_train2[\u001b[39m'\u001b[39m\u001b[39mPath\u001b[39m\u001b[39m'\u001b[39m]), labels\u001b[39m=\u001b[39mnp\u001b[39m.\u001b[39marray(y_train2), transform\u001b[39m=\u001b[39mtrain_transforms)\n\u001b[0;32m      <a href='vscode-notebook-cell:/c%3A/Users/HPatel33/Documents/GitHub/CRLM/CRLM_index.ipynb#X14sZmlsZQ%3D%3D?line=2'>3</a>\u001b[0m check_loader \u001b[39m=\u001b[39m DataLoader(check_ds, batch_size\u001b[39m=\u001b[39m\u001b[39m2\u001b[39m, num_workers\u001b[39m=\u001b[39m\u001b[39m2\u001b[39m, pin_memory\u001b[39m=\u001b[39mtorch\u001b[39m.\u001b[39mcuda\u001b[39m.\u001b[39mis_available())\n\u001b[1;32m----> <a href='vscode-notebook-cell:/c%3A/Users/HPatel33/Documents/GitHub/CRLM/CRLM_index.ipynb#X14sZmlsZQ%3D%3D?line=3'>4</a>\u001b[0m im, label \u001b[39m=\u001b[39m monai\u001b[39m.\u001b[39mutils\u001b[39m.\u001b[39mmisc\u001b[39m.\u001b[39mfirst(check_loader)\n\u001b[0;32m      <a href='vscode-notebook-cell:/c%3A/Users/HPatel33/Documents/GitHub/CRLM/CRLM_index.ipynb#X14sZmlsZQ%3D%3D?line=4'>5</a>\u001b[0m \u001b[39mprint\u001b[39m(\u001b[39mtype\u001b[39m(im), im\u001b[39m.\u001b[39mshape, label)\n",
      "File \u001b[1;32mc:\\Users\\HPatel33\\anaconda3\\Lib\\site-packages\\monai\\utils\\misc.py:119\u001b[0m, in \u001b[0;36mfirst\u001b[1;34m(iterable, default)\u001b[0m\n\u001b[0;32m    115\u001b[0m \u001b[39mdef\u001b[39;00m \u001b[39mfirst\u001b[39m(iterable: Iterable[T], default: T \u001b[39m|\u001b[39m \u001b[39mNone\u001b[39;00m \u001b[39m=\u001b[39m \u001b[39mNone\u001b[39;00m) \u001b[39m-\u001b[39m\u001b[39m>\u001b[39m T \u001b[39m|\u001b[39m \u001b[39mNone\u001b[39;00m:\n\u001b[0;32m    116\u001b[0m \u001b[39m    \u001b[39m\u001b[39m\"\"\"\u001b[39;00m\n\u001b[0;32m    117\u001b[0m \u001b[39m    Returns the first item in the given iterable or `default` if empty, meaningful mostly with 'for' expressions.\u001b[39;00m\n\u001b[0;32m    118\u001b[0m \u001b[39m    \"\"\"\u001b[39;00m\n\u001b[1;32m--> 119\u001b[0m     \u001b[39mfor\u001b[39;00m i \u001b[39min\u001b[39;00m iterable:\n\u001b[0;32m    120\u001b[0m         \u001b[39mreturn\u001b[39;00m i\n\u001b[0;32m    121\u001b[0m     \u001b[39mreturn\u001b[39;00m default\n",
      "File \u001b[1;32mc:\\Users\\HPatel33\\anaconda3\\Lib\\site-packages\\torch\\utils\\data\\dataloader.py:630\u001b[0m, in \u001b[0;36m_BaseDataLoaderIter.__next__\u001b[1;34m(self)\u001b[0m\n\u001b[0;32m    627\u001b[0m \u001b[39mif\u001b[39;00m \u001b[39mself\u001b[39m\u001b[39m.\u001b[39m_sampler_iter \u001b[39mis\u001b[39;00m \u001b[39mNone\u001b[39;00m:\n\u001b[0;32m    628\u001b[0m     \u001b[39m# TODO(https://github.com/pytorch/pytorch/issues/76750)\u001b[39;00m\n\u001b[0;32m    629\u001b[0m     \u001b[39mself\u001b[39m\u001b[39m.\u001b[39m_reset()  \u001b[39m# type: ignore[call-arg]\u001b[39;00m\n\u001b[1;32m--> 630\u001b[0m data \u001b[39m=\u001b[39m \u001b[39mself\u001b[39m\u001b[39m.\u001b[39m_next_data()\n\u001b[0;32m    631\u001b[0m \u001b[39mself\u001b[39m\u001b[39m.\u001b[39m_num_yielded \u001b[39m+\u001b[39m\u001b[39m=\u001b[39m \u001b[39m1\u001b[39m\n\u001b[0;32m    632\u001b[0m \u001b[39mif\u001b[39;00m \u001b[39mself\u001b[39m\u001b[39m.\u001b[39m_dataset_kind \u001b[39m==\u001b[39m _DatasetKind\u001b[39m.\u001b[39mIterable \u001b[39mand\u001b[39;00m \\\n\u001b[0;32m    633\u001b[0m         \u001b[39mself\u001b[39m\u001b[39m.\u001b[39m_IterableDataset_len_called \u001b[39mis\u001b[39;00m \u001b[39mnot\u001b[39;00m \u001b[39mNone\u001b[39;00m \u001b[39mand\u001b[39;00m \\\n\u001b[0;32m    634\u001b[0m         \u001b[39mself\u001b[39m\u001b[39m.\u001b[39m_num_yielded \u001b[39m>\u001b[39m \u001b[39mself\u001b[39m\u001b[39m.\u001b[39m_IterableDataset_len_called:\n",
      "File \u001b[1;32mc:\\Users\\HPatel33\\anaconda3\\Lib\\site-packages\\torch\\utils\\data\\dataloader.py:1345\u001b[0m, in \u001b[0;36m_MultiProcessingDataLoaderIter._next_data\u001b[1;34m(self)\u001b[0m\n\u001b[0;32m   1343\u001b[0m \u001b[39melse\u001b[39;00m:\n\u001b[0;32m   1344\u001b[0m     \u001b[39mdel\u001b[39;00m \u001b[39mself\u001b[39m\u001b[39m.\u001b[39m_task_info[idx]\n\u001b[1;32m-> 1345\u001b[0m     \u001b[39mreturn\u001b[39;00m \u001b[39mself\u001b[39m\u001b[39m.\u001b[39m_process_data(data)\n",
      "File \u001b[1;32mc:\\Users\\HPatel33\\anaconda3\\Lib\\site-packages\\torch\\utils\\data\\dataloader.py:1371\u001b[0m, in \u001b[0;36m_MultiProcessingDataLoaderIter._process_data\u001b[1;34m(self, data)\u001b[0m\n\u001b[0;32m   1369\u001b[0m \u001b[39mself\u001b[39m\u001b[39m.\u001b[39m_try_put_index()\n\u001b[0;32m   1370\u001b[0m \u001b[39mif\u001b[39;00m \u001b[39misinstance\u001b[39m(data, ExceptionWrapper):\n\u001b[1;32m-> 1371\u001b[0m     data\u001b[39m.\u001b[39mreraise()\n\u001b[0;32m   1372\u001b[0m \u001b[39mreturn\u001b[39;00m data\n",
      "File \u001b[1;32mc:\\Users\\HPatel33\\anaconda3\\Lib\\site-packages\\torch\\_utils.py:694\u001b[0m, in \u001b[0;36mExceptionWrapper.reraise\u001b[1;34m(self)\u001b[0m\n\u001b[0;32m    690\u001b[0m \u001b[39mexcept\u001b[39;00m \u001b[39mTypeError\u001b[39;00m:\n\u001b[0;32m    691\u001b[0m     \u001b[39m# If the exception takes multiple arguments, don't try to\u001b[39;00m\n\u001b[0;32m    692\u001b[0m     \u001b[39m# instantiate since we don't know how to\u001b[39;00m\n\u001b[0;32m    693\u001b[0m     \u001b[39mraise\u001b[39;00m \u001b[39mRuntimeError\u001b[39;00m(msg) \u001b[39mfrom\u001b[39;00m \u001b[39mNone\u001b[39;00m\n\u001b[1;32m--> 694\u001b[0m \u001b[39mraise\u001b[39;00m exception\n",
      "\u001b[1;31mTypeError\u001b[0m: Caught TypeError in DataLoader worker process 0.\nOriginal Traceback (most recent call last):\n  File \"c:\\Users\\HPatel33\\anaconda3\\Lib\\site-packages\\torch\\utils\\data\\_utils\\worker.py\", line 308, in _worker_loop\n    data = fetcher.fetch(index)\n           ^^^^^^^^^^^^^^^^^^^^\n  File \"c:\\Users\\HPatel33\\anaconda3\\Lib\\site-packages\\torch\\utils\\data\\_utils\\fetch.py\", line 51, in fetch\n    data = [self.dataset[idx] for idx in possibly_batched_index]\n           ^^^^^^^^^^^^^^^^^^^^^^^^^^^^^^^^^^^^^^^^^^^^^^^^^^^^^\n  File \"c:\\Users\\HPatel33\\anaconda3\\Lib\\site-packages\\torch\\utils\\data\\_utils\\fetch.py\", line 51, in <listcomp>\n    data = [self.dataset[idx] for idx in possibly_batched_index]\n            ~~~~~~~~~~~~^^^^^\n  File \"c:\\Users\\HPatel33\\anaconda3\\Lib\\site-packages\\monai\\data\\image_dataset.py\", line 108, in __getitem__\n    img = self.loader(self.image_files[index])\n          ^^^^^^^^^^^^^^^^^^^^^^^^^^^^^^^^^^^^\n  File \"c:\\Users\\HPatel33\\anaconda3\\Lib\\site-packages\\monai\\transforms\\io\\array.py\", line 245, in __call__\n    filename = tuple(\n               ^^^^^^\n  File \"c:\\Users\\HPatel33\\anaconda3\\Lib\\site-packages\\monai\\transforms\\io\\array.py\", line 246, in <genexpr>\n    f\"{Path(s).expanduser()}\" if self.expanduser else s for s in ensure_tuple(filename)  # allow Path objects\n       ^^^^^^^\n  File \"c:\\Users\\HPatel33\\anaconda3\\Lib\\pathlib.py\", line 871, in __new__\n    self = cls._from_parts(args)\n           ^^^^^^^^^^^^^^^^^^^^^\n  File \"c:\\Users\\HPatel33\\anaconda3\\Lib\\pathlib.py\", line 509, in _from_parts\n    drv, root, parts = self._parse_args(args)\n                       ^^^^^^^^^^^^^^^^^^^^^^\n  File \"c:\\Users\\HPatel33\\anaconda3\\Lib\\pathlib.py\", line 493, in _parse_args\n    a = os.fspath(a)\n        ^^^^^^^^^^^^\nTypeError: expected str, bytes or os.PathLike object, not float64\n"
     ]
    }
   ],
   "source": [
    "# define image dataset, data loader\n",
    "check_ds = ImageDataset(image_files=np.array(x_train2['Path']), labels=np.array(y_train2), transform=train_transforms)\n",
    "check_loader = DataLoader(check_ds, batch_size=2, num_workers=2, pin_memory=torch.cuda.is_available())\n",
    "im, label = monai.utils.misc.first(check_loader)\n",
    "print(type(im), im.shape, label)"
   ]
  },
  {
   "cell_type": "code",
   "execution_count": 25,
   "metadata": {
    "ExecuteTime": {
     "end_time": "2023-10-11T21:10:36.112862633Z",
     "start_time": "2023-10-11T21:10:35.913894666Z"
    },
    "collapsed": false
   },
   "outputs": [
    {
     "name": "stdout",
     "output_type": "stream",
     "text": [
      "cpu\n"
     ]
    }
   ],
   "source": [
    "# create DenseNet121, CrossEntropyLoss and Adam optimizer\n",
    "device = torch.device(\"cuda\" if torch.cuda.is_available() else \"cpu\")\n",
    "print(device)\n",
    "net = monai.networks.nets.DenseNet264(spatial_dims=3, in_channels=1, out_channels=2).to(device)\n",
    "loss = torch.nn.CrossEntropyLoss()\n",
    "lr = 1e-5\n",
    "opt = torch.optim.Adam(net.parameters(), lr)"
   ]
  },
  {
   "cell_type": "code",
   "execution_count": 26,
   "metadata": {},
   "outputs": [
    {
     "name": "stdout",
     "output_type": "stream",
     "text": [
      "True\n",
      "False\n",
      "2.1.0\n"
     ]
    }
   ],
   "source": [
    "print(torch.backends.cudnn.enabled)\n",
    "print(torch.cuda.is_available())\n",
    "print(torch.__version__)"
   ]
  },
  {
   "cell_type": "code",
   "execution_count": 27,
   "metadata": {
    "ExecuteTime": {
     "end_time": "2023-10-11T21:10:37.161808642Z",
     "start_time": "2023-10-11T21:10:37.150354355Z"
    },
    "collapsed": false
   },
   "outputs": [],
   "source": [
    "# Ignite trainer expects batch=(img, label) and returns output=loss at every iteration,\n",
    "# user can add output_transform to return other values, like: y_pred, y, etc.\n",
    "trainer = create_supervised_trainer(net, opt, loss, device, False)"
   ]
  },
  {
   "cell_type": "code",
   "execution_count": 28,
   "metadata": {
    "ExecuteTime": {
     "end_time": "2023-10-11T21:10:38.516136439Z",
     "start_time": "2023-10-11T21:10:38.505371919Z"
    },
    "collapsed": false
   },
   "outputs": [
    {
     "data": {
      "text/plain": [
       "<ignite.engine.events.RemovableEventHandle at 0x1de28098d90>"
      ]
     },
     "execution_count": 28,
     "metadata": {},
     "output_type": "execute_result"
    }
   ],
   "source": [
    "\n",
    "# adding checkpoint handler to save models (network params and optimizer stats) during training\n",
    "checkpoint_handler = ModelCheckpoint(\"./runs_array/\", \"net\", n_saved=10, require_empty=False)\n",
    "trainer.add_event_handler(\n",
    "    event_name=Events.EPOCH_COMPLETED, handler=checkpoint_handler, to_save={\"net\": net, \"opt\": opt}\n",
    ")"
   ]
  },
  {
   "cell_type": "code",
   "execution_count": 29,
   "metadata": {
    "ExecuteTime": {
     "end_time": "2023-10-11T21:10:39.220366758Z",
     "start_time": "2023-10-11T21:10:39.198480280Z"
    },
    "collapsed": false
   },
   "outputs": [],
   "source": [
    "# StatsHandler prints loss at every iteration and print metrics at every epoch,\n",
    "# we don't set metrics for trainer here, so just print loss, user can also customize print functions\n",
    "# and can use output_transform to convert engine.state.output if it's not loss value\n",
    "train_stats_handler = StatsHandler(name=\"trainer\", output_transform=lambda x: x)\n",
    "train_stats_handler.attach(trainer)"
   ]
  },
  {
   "cell_type": "code",
   "execution_count": 30,
   "metadata": {
    "ExecuteTime": {
     "end_time": "2023-10-11T21:10:39.787454109Z",
     "start_time": "2023-10-11T21:10:39.785868430Z"
    },
    "collapsed": false
   },
   "outputs": [],
   "source": [
    "# TensorBoardStatsHandler plots loss at every iteration and plots metrics at every epoch, same as StatsHandler\n",
    "train_tensorboard_stats_handler = TensorBoardStatsHandler(output_transform=lambda x: x)\n",
    "train_tensorboard_stats_handler.attach(trainer)"
   ]
  },
  {
   "cell_type": "code",
   "execution_count": 31,
   "metadata": {
    "ExecuteTime": {
     "end_time": "2023-10-11T21:10:40.332866968Z",
     "start_time": "2023-10-11T21:10:40.317268651Z"
    },
    "collapsed": false
   },
   "outputs": [],
   "source": [
    "# set parameters for validation\n",
    "validation_every_n_epochs = 1"
   ]
  },
  {
   "cell_type": "code",
   "execution_count": 32,
   "metadata": {
    "ExecuteTime": {
     "end_time": "2023-10-11T21:10:40.915326826Z",
     "start_time": "2023-10-11T21:10:40.899006384Z"
    },
    "collapsed": false
   },
   "outputs": [],
   "source": [
    "metric_name = \"Accuracy\"\n",
    "# add evaluation metric to the evaluator engine\n",
    "val_metrics = {metric_name: Accuracy()}\n",
    "# Ignite evaluator expects batch=(img, label) and returns output=(y_pred, y) at every iteration,\n",
    "# user can add output_transform to return other values\n",
    "evaluator = create_supervised_evaluator(net, val_metrics, device, True)\n"
   ]
  },
  {
   "cell_type": "code",
   "execution_count": 33,
   "metadata": {
    "ExecuteTime": {
     "end_time": "2023-10-11T21:10:41.509586826Z",
     "start_time": "2023-10-11T21:10:41.496472107Z"
    },
    "collapsed": false
   },
   "outputs": [],
   "source": [
    "# add stats event handler to print validation stats via evaluator\n",
    "val_stats_handler = StatsHandler(\n",
    "    name=\"evaluator\",\n",
    "    output_transform=lambda x: None,  # no need to print loss value, so disable per iteration output\n",
    "    global_epoch_transform=lambda x: trainer.state.epoch,\n",
    ")  # fetch global epoch number from trainer\n",
    "val_stats_handler.attach(evaluator)"
   ]
  },
  {
   "cell_type": "code",
   "execution_count": 34,
   "metadata": {
    "ExecuteTime": {
     "end_time": "2023-10-11T21:10:43.416734677Z",
     "start_time": "2023-10-11T21:10:43.408662541Z"
    },
    "collapsed": false
   },
   "outputs": [
    {
     "data": {
      "text/plain": [
       "<ignite.engine.events.RemovableEventHandle at 0x1de266d31d0>"
      ]
     },
     "execution_count": 34,
     "metadata": {},
     "output_type": "execute_result"
    }
   ],
   "source": [
    "# add early stopping handler to evaluator\n",
    "early_stopper = EarlyStopping(patience=4, score_function=stopping_fn_from_metric(metric_name), trainer=trainer)\n",
    "evaluator.add_event_handler(event_name=Events.EPOCH_COMPLETED, handler=early_stopper)"
   ]
  },
  {
   "cell_type": "code",
   "execution_count": 35,
   "metadata": {
    "ExecuteTime": {
     "end_time": "2023-10-11T21:10:43.947447461Z",
     "start_time": "2023-10-11T21:10:43.937437086Z"
    },
    "collapsed": false
   },
   "outputs": [],
   "source": [
    "# create a validation data loader\n",
    "val_ds = ImageDataset(image_files=np.array(x_val2['Path']), labels=np.array(y_val2), transform=val_transforms)\n",
    "val_loader = DataLoader(val_ds, batch_size=2, num_workers=2, pin_memory=torch.cuda.is_available())"
   ]
  },
  {
   "cell_type": "code",
   "execution_count": 36,
   "metadata": {
    "ExecuteTime": {
     "end_time": "2023-10-11T21:10:44.452484403Z",
     "start_time": "2023-10-11T21:10:44.448047109Z"
    },
    "collapsed": false
   },
   "outputs": [],
   "source": [
    "@trainer.on(Events.EPOCH_COMPLETED(every=validation_every_n_epochs))\n",
    "def run_validation(engine):\n",
    "    evaluator.run(val_loader)"
   ]
  },
  {
   "cell_type": "code",
   "execution_count": 37,
   "metadata": {
    "ExecuteTime": {
     "end_time": "2023-10-11T21:10:45.031022371Z",
     "start_time": "2023-10-11T21:10:45.023893113Z"
    },
    "collapsed": false
   },
   "outputs": [],
   "source": [
    "# create a training data loader\n",
    "train_ds = ImageDataset(image_files=np.array(x_train2['Path']), labels=np.array(y_train2), transform=train_transforms)\n",
    "train_loader = DataLoader(train_ds, batch_size=2, shuffle=True, num_workers=2, pin_memory=torch.cuda.is_available())"
   ]
  },
  {
   "cell_type": "code",
   "execution_count": 38,
   "metadata": {
    "ExecuteTime": {
     "start_time": "2023-10-11T21:10:46.333389703Z"
    },
    "collapsed": false
   },
   "outputs": [
    {
     "name": "stdout",
     "output_type": "stream",
     "text": [
      "INFO:ignite.engine.engine.Engine:Engine run starting with max_epochs=30.\n",
      "ERROR:ignite.engine.engine.Engine:Current run is terminating due to exception: Caught TypeError in DataLoader worker process 0.\n",
      "Original Traceback (most recent call last):\n",
      "  File \"c:\\Users\\HPatel33\\anaconda3\\Lib\\site-packages\\torch\\utils\\data\\_utils\\worker.py\", line 308, in _worker_loop\n",
      "    data = fetcher.fetch(index)\n",
      "           ^^^^^^^^^^^^^^^^^^^^\n",
      "  File \"c:\\Users\\HPatel33\\anaconda3\\Lib\\site-packages\\torch\\utils\\data\\_utils\\fetch.py\", line 51, in fetch\n",
      "    data = [self.dataset[idx] for idx in possibly_batched_index]\n",
      "           ^^^^^^^^^^^^^^^^^^^^^^^^^^^^^^^^^^^^^^^^^^^^^^^^^^^^^\n",
      "  File \"c:\\Users\\HPatel33\\anaconda3\\Lib\\site-packages\\torch\\utils\\data\\_utils\\fetch.py\", line 51, in <listcomp>\n",
      "    data = [self.dataset[idx] for idx in possibly_batched_index]\n",
      "            ~~~~~~~~~~~~^^^^^\n",
      "  File \"c:\\Users\\HPatel33\\anaconda3\\Lib\\site-packages\\monai\\data\\image_dataset.py\", line 108, in __getitem__\n",
      "    img = self.loader(self.image_files[index])\n",
      "          ^^^^^^^^^^^^^^^^^^^^^^^^^^^^^^^^^^^^\n",
      "  File \"c:\\Users\\HPatel33\\anaconda3\\Lib\\site-packages\\monai\\transforms\\io\\array.py\", line 245, in __call__\n",
      "    filename = tuple(\n",
      "               ^^^^^^\n",
      "  File \"c:\\Users\\HPatel33\\anaconda3\\Lib\\site-packages\\monai\\transforms\\io\\array.py\", line 246, in <genexpr>\n",
      "    f\"{Path(s).expanduser()}\" if self.expanduser else s for s in ensure_tuple(filename)  # allow Path objects\n",
      "       ^^^^^^^\n",
      "  File \"c:\\Users\\HPatel33\\anaconda3\\Lib\\pathlib.py\", line 871, in __new__\n",
      "    self = cls._from_parts(args)\n",
      "           ^^^^^^^^^^^^^^^^^^^^^\n",
      "  File \"c:\\Users\\HPatel33\\anaconda3\\Lib\\pathlib.py\", line 509, in _from_parts\n",
      "    drv, root, parts = self._parse_args(args)\n",
      "                       ^^^^^^^^^^^^^^^^^^^^^^\n",
      "  File \"c:\\Users\\HPatel33\\anaconda3\\Lib\\pathlib.py\", line 493, in _parse_args\n",
      "    a = os.fspath(a)\n",
      "        ^^^^^^^^^^^^\n",
      "TypeError: expected str, bytes or os.PathLike object, not float64\n",
      "\n",
      "2023-10-15 11:03:45,709 - ERROR - Exception: Caught TypeError in DataLoader worker process 0.\n",
      "Original Traceback (most recent call last):\n",
      "  File \"c:\\Users\\HPatel33\\anaconda3\\Lib\\site-packages\\torch\\utils\\data\\_utils\\worker.py\", line 308, in _worker_loop\n",
      "    data = fetcher.fetch(index)\n",
      "           ^^^^^^^^^^^^^^^^^^^^\n",
      "  File \"c:\\Users\\HPatel33\\anaconda3\\Lib\\site-packages\\torch\\utils\\data\\_utils\\fetch.py\", line 51, in fetch\n",
      "    data = [self.dataset[idx] for idx in possibly_batched_index]\n",
      "           ^^^^^^^^^^^^^^^^^^^^^^^^^^^^^^^^^^^^^^^^^^^^^^^^^^^^^\n",
      "  File \"c:\\Users\\HPatel33\\anaconda3\\Lib\\site-packages\\torch\\utils\\data\\_utils\\fetch.py\", line 51, in <listcomp>\n",
      "    data = [self.dataset[idx] for idx in possibly_batched_index]\n",
      "            ~~~~~~~~~~~~^^^^^\n",
      "  File \"c:\\Users\\HPatel33\\anaconda3\\Lib\\site-packages\\monai\\data\\image_dataset.py\", line 108, in __getitem__\n",
      "    img = self.loader(self.image_files[index])\n",
      "          ^^^^^^^^^^^^^^^^^^^^^^^^^^^^^^^^^^^^\n",
      "  File \"c:\\Users\\HPatel33\\anaconda3\\Lib\\site-packages\\monai\\transforms\\io\\array.py\", line 245, in __call__\n",
      "    filename = tuple(\n",
      "               ^^^^^^\n",
      "  File \"c:\\Users\\HPatel33\\anaconda3\\Lib\\site-packages\\monai\\transforms\\io\\array.py\", line 246, in <genexpr>\n",
      "    f\"{Path(s).expanduser()}\" if self.expanduser else s for s in ensure_tuple(filename)  # allow Path objects\n",
      "       ^^^^^^^\n",
      "  File \"c:\\Users\\HPatel33\\anaconda3\\Lib\\pathlib.py\", line 871, in __new__\n",
      "    self = cls._from_parts(args)\n",
      "           ^^^^^^^^^^^^^^^^^^^^^\n",
      "  File \"c:\\Users\\HPatel33\\anaconda3\\Lib\\pathlib.py\", line 509, in _from_parts\n",
      "    drv, root, parts = self._parse_args(args)\n",
      "                       ^^^^^^^^^^^^^^^^^^^^^^\n",
      "  File \"c:\\Users\\HPatel33\\anaconda3\\Lib\\pathlib.py\", line 493, in _parse_args\n",
      "    a = os.fspath(a)\n",
      "        ^^^^^^^^^^^^\n",
      "TypeError: expected str, bytes or os.PathLike object, not float64\n",
      "Traceback (most recent call last):\n",
      "  File \"c:\\Users\\HPatel33\\anaconda3\\Lib\\site-packages\\ignite\\engine\\engine.py\", line 1032, in _run_once_on_dataset_as_gen\n",
      "    self.state.batch = next(self._dataloader_iter)\n",
      "                       ^^^^^^^^^^^^^^^^^^^^^^^^^^^\n",
      "  File \"c:\\Users\\HPatel33\\anaconda3\\Lib\\site-packages\\torch\\utils\\data\\dataloader.py\", line 630, in __next__\n",
      "    data = self._next_data()\n",
      "           ^^^^^^^^^^^^^^^^^\n",
      "  File \"c:\\Users\\HPatel33\\anaconda3\\Lib\\site-packages\\torch\\utils\\data\\dataloader.py\", line 1345, in _next_data\n",
      "    return self._process_data(data)\n",
      "           ^^^^^^^^^^^^^^^^^^^^^^^^\n",
      "  File \"c:\\Users\\HPatel33\\anaconda3\\Lib\\site-packages\\torch\\utils\\data\\dataloader.py\", line 1371, in _process_data\n",
      "    data.reraise()\n",
      "  File \"c:\\Users\\HPatel33\\anaconda3\\Lib\\site-packages\\torch\\_utils.py\", line 694, in reraise\n",
      "    raise exception\n",
      "TypeError: Caught TypeError in DataLoader worker process 0.\n",
      "Original Traceback (most recent call last):\n",
      "  File \"c:\\Users\\HPatel33\\anaconda3\\Lib\\site-packages\\torch\\utils\\data\\_utils\\worker.py\", line 308, in _worker_loop\n",
      "    data = fetcher.fetch(index)\n",
      "           ^^^^^^^^^^^^^^^^^^^^\n",
      "  File \"c:\\Users\\HPatel33\\anaconda3\\Lib\\site-packages\\torch\\utils\\data\\_utils\\fetch.py\", line 51, in fetch\n",
      "    data = [self.dataset[idx] for idx in possibly_batched_index]\n",
      "           ^^^^^^^^^^^^^^^^^^^^^^^^^^^^^^^^^^^^^^^^^^^^^^^^^^^^^\n",
      "  File \"c:\\Users\\HPatel33\\anaconda3\\Lib\\site-packages\\torch\\utils\\data\\_utils\\fetch.py\", line 51, in <listcomp>\n",
      "    data = [self.dataset[idx] for idx in possibly_batched_index]\n",
      "            ~~~~~~~~~~~~^^^^^\n",
      "  File \"c:\\Users\\HPatel33\\anaconda3\\Lib\\site-packages\\monai\\data\\image_dataset.py\", line 108, in __getitem__\n",
      "    img = self.loader(self.image_files[index])\n",
      "          ^^^^^^^^^^^^^^^^^^^^^^^^^^^^^^^^^^^^\n",
      "  File \"c:\\Users\\HPatel33\\anaconda3\\Lib\\site-packages\\monai\\transforms\\io\\array.py\", line 245, in __call__\n",
      "    filename = tuple(\n",
      "               ^^^^^^\n",
      "  File \"c:\\Users\\HPatel33\\anaconda3\\Lib\\site-packages\\monai\\transforms\\io\\array.py\", line 246, in <genexpr>\n",
      "    f\"{Path(s).expanduser()}\" if self.expanduser else s for s in ensure_tuple(filename)  # allow Path objects\n",
      "       ^^^^^^^\n",
      "  File \"c:\\Users\\HPatel33\\anaconda3\\Lib\\pathlib.py\", line 871, in __new__\n",
      "    self = cls._from_parts(args)\n",
      "           ^^^^^^^^^^^^^^^^^^^^^\n",
      "  File \"c:\\Users\\HPatel33\\anaconda3\\Lib\\pathlib.py\", line 509, in _from_parts\n",
      "    drv, root, parts = self._parse_args(args)\n",
      "                       ^^^^^^^^^^^^^^^^^^^^^^\n",
      "  File \"c:\\Users\\HPatel33\\anaconda3\\Lib\\pathlib.py\", line 493, in _parse_args\n",
      "    a = os.fspath(a)\n",
      "        ^^^^^^^^^^^^\n",
      "TypeError: expected str, bytes or os.PathLike object, not float64\n",
      "\n",
      "ERROR:ignite.engine.engine.Engine:Engine run is terminating due to exception: Caught TypeError in DataLoader worker process 0.\n",
      "Original Traceback (most recent call last):\n",
      "  File \"c:\\Users\\HPatel33\\anaconda3\\Lib\\site-packages\\torch\\utils\\data\\_utils\\worker.py\", line 308, in _worker_loop\n",
      "    data = fetcher.fetch(index)\n",
      "           ^^^^^^^^^^^^^^^^^^^^\n",
      "  File \"c:\\Users\\HPatel33\\anaconda3\\Lib\\site-packages\\torch\\utils\\data\\_utils\\fetch.py\", line 51, in fetch\n",
      "    data = [self.dataset[idx] for idx in possibly_batched_index]\n",
      "           ^^^^^^^^^^^^^^^^^^^^^^^^^^^^^^^^^^^^^^^^^^^^^^^^^^^^^\n",
      "  File \"c:\\Users\\HPatel33\\anaconda3\\Lib\\site-packages\\torch\\utils\\data\\_utils\\fetch.py\", line 51, in <listcomp>\n",
      "    data = [self.dataset[idx] for idx in possibly_batched_index]\n",
      "            ~~~~~~~~~~~~^^^^^\n",
      "  File \"c:\\Users\\HPatel33\\anaconda3\\Lib\\site-packages\\monai\\data\\image_dataset.py\", line 108, in __getitem__\n",
      "    img = self.loader(self.image_files[index])\n",
      "          ^^^^^^^^^^^^^^^^^^^^^^^^^^^^^^^^^^^^\n",
      "  File \"c:\\Users\\HPatel33\\anaconda3\\Lib\\site-packages\\monai\\transforms\\io\\array.py\", line 245, in __call__\n",
      "    filename = tuple(\n",
      "               ^^^^^^\n",
      "  File \"c:\\Users\\HPatel33\\anaconda3\\Lib\\site-packages\\monai\\transforms\\io\\array.py\", line 246, in <genexpr>\n",
      "    f\"{Path(s).expanduser()}\" if self.expanduser else s for s in ensure_tuple(filename)  # allow Path objects\n",
      "       ^^^^^^^\n",
      "  File \"c:\\Users\\HPatel33\\anaconda3\\Lib\\pathlib.py\", line 871, in __new__\n",
      "    self = cls._from_parts(args)\n",
      "           ^^^^^^^^^^^^^^^^^^^^^\n",
      "  File \"c:\\Users\\HPatel33\\anaconda3\\Lib\\pathlib.py\", line 509, in _from_parts\n",
      "    drv, root, parts = self._parse_args(args)\n",
      "                       ^^^^^^^^^^^^^^^^^^^^^^\n",
      "  File \"c:\\Users\\HPatel33\\anaconda3\\Lib\\pathlib.py\", line 493, in _parse_args\n",
      "    a = os.fspath(a)\n",
      "        ^^^^^^^^^^^^\n",
      "TypeError: expected str, bytes or os.PathLike object, not float64\n",
      "\n",
      "2023-10-15 11:03:45,711 - ERROR - Exception: Caught TypeError in DataLoader worker process 0.\n",
      "Original Traceback (most recent call last):\n",
      "  File \"c:\\Users\\HPatel33\\anaconda3\\Lib\\site-packages\\torch\\utils\\data\\_utils\\worker.py\", line 308, in _worker_loop\n",
      "    data = fetcher.fetch(index)\n",
      "           ^^^^^^^^^^^^^^^^^^^^\n",
      "  File \"c:\\Users\\HPatel33\\anaconda3\\Lib\\site-packages\\torch\\utils\\data\\_utils\\fetch.py\", line 51, in fetch\n",
      "    data = [self.dataset[idx] for idx in possibly_batched_index]\n",
      "           ^^^^^^^^^^^^^^^^^^^^^^^^^^^^^^^^^^^^^^^^^^^^^^^^^^^^^\n",
      "  File \"c:\\Users\\HPatel33\\anaconda3\\Lib\\site-packages\\torch\\utils\\data\\_utils\\fetch.py\", line 51, in <listcomp>\n",
      "    data = [self.dataset[idx] for idx in possibly_batched_index]\n",
      "            ~~~~~~~~~~~~^^^^^\n",
      "  File \"c:\\Users\\HPatel33\\anaconda3\\Lib\\site-packages\\monai\\data\\image_dataset.py\", line 108, in __getitem__\n",
      "    img = self.loader(self.image_files[index])\n",
      "          ^^^^^^^^^^^^^^^^^^^^^^^^^^^^^^^^^^^^\n",
      "  File \"c:\\Users\\HPatel33\\anaconda3\\Lib\\site-packages\\monai\\transforms\\io\\array.py\", line 245, in __call__\n",
      "    filename = tuple(\n",
      "               ^^^^^^\n",
      "  File \"c:\\Users\\HPatel33\\anaconda3\\Lib\\site-packages\\monai\\transforms\\io\\array.py\", line 246, in <genexpr>\n",
      "    f\"{Path(s).expanduser()}\" if self.expanduser else s for s in ensure_tuple(filename)  # allow Path objects\n",
      "       ^^^^^^^\n",
      "  File \"c:\\Users\\HPatel33\\anaconda3\\Lib\\pathlib.py\", line 871, in __new__\n",
      "    self = cls._from_parts(args)\n",
      "           ^^^^^^^^^^^^^^^^^^^^^\n",
      "  File \"c:\\Users\\HPatel33\\anaconda3\\Lib\\pathlib.py\", line 509, in _from_parts\n",
      "    drv, root, parts = self._parse_args(args)\n",
      "                       ^^^^^^^^^^^^^^^^^^^^^^\n",
      "  File \"c:\\Users\\HPatel33\\anaconda3\\Lib\\pathlib.py\", line 493, in _parse_args\n",
      "    a = os.fspath(a)\n",
      "        ^^^^^^^^^^^^\n",
      "TypeError: expected str, bytes or os.PathLike object, not float64\n",
      "Traceback (most recent call last):\n",
      "  File \"c:\\Users\\HPatel33\\anaconda3\\Lib\\site-packages\\ignite\\engine\\engine.py\", line 959, in _internal_run_as_gen\n",
      "    epoch_time_taken += yield from self._run_once_on_dataset_as_gen()\n",
      "                        ^^^^^^^^^^^^^^^^^^^^^^^^^^^^^^^^^^^^^^^^^^^^^\n",
      "  File \"c:\\Users\\HPatel33\\anaconda3\\Lib\\site-packages\\ignite\\engine\\engine.py\", line 1087, in _run_once_on_dataset_as_gen\n",
      "    self._handle_exception(e)\n",
      "  File \"c:\\Users\\HPatel33\\anaconda3\\Lib\\site-packages\\ignite\\engine\\engine.py\", line 636, in _handle_exception\n",
      "    self._fire_event(Events.EXCEPTION_RAISED, e)\n",
      "  File \"c:\\Users\\HPatel33\\anaconda3\\Lib\\site-packages\\ignite\\engine\\engine.py\", line 425, in _fire_event\n",
      "    func(*first, *(event_args + others), **kwargs)\n",
      "  File \"c:\\Users\\HPatel33\\anaconda3\\Lib\\site-packages\\monai\\handlers\\stats_handler.py\", line 202, in exception_raised\n",
      "    raise e\n",
      "  File \"c:\\Users\\HPatel33\\anaconda3\\Lib\\site-packages\\ignite\\engine\\engine.py\", line 1032, in _run_once_on_dataset_as_gen\n",
      "    self.state.batch = next(self._dataloader_iter)\n",
      "                       ^^^^^^^^^^^^^^^^^^^^^^^^^^^\n",
      "  File \"c:\\Users\\HPatel33\\anaconda3\\Lib\\site-packages\\torch\\utils\\data\\dataloader.py\", line 630, in __next__\n",
      "    data = self._next_data()\n",
      "           ^^^^^^^^^^^^^^^^^\n",
      "  File \"c:\\Users\\HPatel33\\anaconda3\\Lib\\site-packages\\torch\\utils\\data\\dataloader.py\", line 1345, in _next_data\n",
      "    return self._process_data(data)\n",
      "           ^^^^^^^^^^^^^^^^^^^^^^^^\n",
      "  File \"c:\\Users\\HPatel33\\anaconda3\\Lib\\site-packages\\torch\\utils\\data\\dataloader.py\", line 1371, in _process_data\n",
      "    data.reraise()\n",
      "  File \"c:\\Users\\HPatel33\\anaconda3\\Lib\\site-packages\\torch\\_utils.py\", line 694, in reraise\n",
      "    raise exception\n",
      "TypeError: Caught TypeError in DataLoader worker process 0.\n",
      "Original Traceback (most recent call last):\n",
      "  File \"c:\\Users\\HPatel33\\anaconda3\\Lib\\site-packages\\torch\\utils\\data\\_utils\\worker.py\", line 308, in _worker_loop\n",
      "    data = fetcher.fetch(index)\n",
      "           ^^^^^^^^^^^^^^^^^^^^\n",
      "  File \"c:\\Users\\HPatel33\\anaconda3\\Lib\\site-packages\\torch\\utils\\data\\_utils\\fetch.py\", line 51, in fetch\n",
      "    data = [self.dataset[idx] for idx in possibly_batched_index]\n",
      "           ^^^^^^^^^^^^^^^^^^^^^^^^^^^^^^^^^^^^^^^^^^^^^^^^^^^^^\n",
      "  File \"c:\\Users\\HPatel33\\anaconda3\\Lib\\site-packages\\torch\\utils\\data\\_utils\\fetch.py\", line 51, in <listcomp>\n",
      "    data = [self.dataset[idx] for idx in possibly_batched_index]\n",
      "            ~~~~~~~~~~~~^^^^^\n",
      "  File \"c:\\Users\\HPatel33\\anaconda3\\Lib\\site-packages\\monai\\data\\image_dataset.py\", line 108, in __getitem__\n",
      "    img = self.loader(self.image_files[index])\n",
      "          ^^^^^^^^^^^^^^^^^^^^^^^^^^^^^^^^^^^^\n",
      "  File \"c:\\Users\\HPatel33\\anaconda3\\Lib\\site-packages\\monai\\transforms\\io\\array.py\", line 245, in __call__\n",
      "    filename = tuple(\n",
      "               ^^^^^^\n",
      "  File \"c:\\Users\\HPatel33\\anaconda3\\Lib\\site-packages\\monai\\transforms\\io\\array.py\", line 246, in <genexpr>\n",
      "    f\"{Path(s).expanduser()}\" if self.expanduser else s for s in ensure_tuple(filename)  # allow Path objects\n",
      "       ^^^^^^^\n",
      "  File \"c:\\Users\\HPatel33\\anaconda3\\Lib\\pathlib.py\", line 871, in __new__\n",
      "    self = cls._from_parts(args)\n",
      "           ^^^^^^^^^^^^^^^^^^^^^\n",
      "  File \"c:\\Users\\HPatel33\\anaconda3\\Lib\\pathlib.py\", line 509, in _from_parts\n",
      "    drv, root, parts = self._parse_args(args)\n",
      "                       ^^^^^^^^^^^^^^^^^^^^^^\n",
      "  File \"c:\\Users\\HPatel33\\anaconda3\\Lib\\pathlib.py\", line 493, in _parse_args\n",
      "    a = os.fspath(a)\n",
      "        ^^^^^^^^^^^^\n",
      "TypeError: expected str, bytes or os.PathLike object, not float64\n",
      "\n"
     ]
    },
    {
     "ename": "TypeError",
     "evalue": "Caught TypeError in DataLoader worker process 0.\nOriginal Traceback (most recent call last):\n  File \"c:\\Users\\HPatel33\\anaconda3\\Lib\\site-packages\\torch\\utils\\data\\_utils\\worker.py\", line 308, in _worker_loop\n    data = fetcher.fetch(index)\n           ^^^^^^^^^^^^^^^^^^^^\n  File \"c:\\Users\\HPatel33\\anaconda3\\Lib\\site-packages\\torch\\utils\\data\\_utils\\fetch.py\", line 51, in fetch\n    data = [self.dataset[idx] for idx in possibly_batched_index]\n           ^^^^^^^^^^^^^^^^^^^^^^^^^^^^^^^^^^^^^^^^^^^^^^^^^^^^^\n  File \"c:\\Users\\HPatel33\\anaconda3\\Lib\\site-packages\\torch\\utils\\data\\_utils\\fetch.py\", line 51, in <listcomp>\n    data = [self.dataset[idx] for idx in possibly_batched_index]\n            ~~~~~~~~~~~~^^^^^\n  File \"c:\\Users\\HPatel33\\anaconda3\\Lib\\site-packages\\monai\\data\\image_dataset.py\", line 108, in __getitem__\n    img = self.loader(self.image_files[index])\n          ^^^^^^^^^^^^^^^^^^^^^^^^^^^^^^^^^^^^\n  File \"c:\\Users\\HPatel33\\anaconda3\\Lib\\site-packages\\monai\\transforms\\io\\array.py\", line 245, in __call__\n    filename = tuple(\n               ^^^^^^\n  File \"c:\\Users\\HPatel33\\anaconda3\\Lib\\site-packages\\monai\\transforms\\io\\array.py\", line 246, in <genexpr>\n    f\"{Path(s).expanduser()}\" if self.expanduser else s for s in ensure_tuple(filename)  # allow Path objects\n       ^^^^^^^\n  File \"c:\\Users\\HPatel33\\anaconda3\\Lib\\pathlib.py\", line 871, in __new__\n    self = cls._from_parts(args)\n           ^^^^^^^^^^^^^^^^^^^^^\n  File \"c:\\Users\\HPatel33\\anaconda3\\Lib\\pathlib.py\", line 509, in _from_parts\n    drv, root, parts = self._parse_args(args)\n                       ^^^^^^^^^^^^^^^^^^^^^^\n  File \"c:\\Users\\HPatel33\\anaconda3\\Lib\\pathlib.py\", line 493, in _parse_args\n    a = os.fspath(a)\n        ^^^^^^^^^^^^\nTypeError: expected str, bytes or os.PathLike object, not float64\n",
     "output_type": "error",
     "traceback": [
      "\u001b[1;31m---------------------------------------------------------------------------\u001b[0m",
      "\u001b[1;31mTypeError\u001b[0m                                 Traceback (most recent call last)",
      "\u001b[1;32mc:\\Users\\HPatel33\\Documents\\GitHub\\CRLM\\CRLM_index.ipynb Cell 25\u001b[0m line \u001b[0;36m2\n\u001b[0;32m      <a href='vscode-notebook-cell:/c%3A/Users/HPatel33/Documents/GitHub/CRLM/CRLM_index.ipynb#X34sZmlsZQ%3D%3D?line=0'>1</a>\u001b[0m train_epochs \u001b[39m=\u001b[39m \u001b[39m30\u001b[39m\n\u001b[1;32m----> <a href='vscode-notebook-cell:/c%3A/Users/HPatel33/Documents/GitHub/CRLM/CRLM_index.ipynb#X34sZmlsZQ%3D%3D?line=1'>2</a>\u001b[0m state \u001b[39m=\u001b[39m trainer\u001b[39m.\u001b[39mrun(train_loader, train_epochs)\n\u001b[0;32m      <a href='vscode-notebook-cell:/c%3A/Users/HPatel33/Documents/GitHub/CRLM/CRLM_index.ipynb#X34sZmlsZQ%3D%3D?line=2'>3</a>\u001b[0m \u001b[39mprint\u001b[39m(state)\n",
      "File \u001b[1;32mc:\\Users\\HPatel33\\anaconda3\\Lib\\site-packages\\ignite\\engine\\engine.py:892\u001b[0m, in \u001b[0;36mEngine.run\u001b[1;34m(self, data, max_epochs, epoch_length, seed)\u001b[0m\n\u001b[0;32m    889\u001b[0m     \u001b[39mself\u001b[39m\u001b[39m.\u001b[39mstate\u001b[39m.\u001b[39mdataloader \u001b[39m=\u001b[39m data\n\u001b[0;32m    891\u001b[0m \u001b[39mif\u001b[39;00m \u001b[39mself\u001b[39m\u001b[39m.\u001b[39minterrupt_resume_enabled:\n\u001b[1;32m--> 892\u001b[0m     \u001b[39mreturn\u001b[39;00m \u001b[39mself\u001b[39m\u001b[39m.\u001b[39m_internal_run()\n\u001b[0;32m    893\u001b[0m \u001b[39melse\u001b[39;00m:\n\u001b[0;32m    894\u001b[0m     \u001b[39mreturn\u001b[39;00m \u001b[39mself\u001b[39m\u001b[39m.\u001b[39m_internal_run_legacy()\n",
      "File \u001b[1;32mc:\\Users\\HPatel33\\anaconda3\\Lib\\site-packages\\ignite\\engine\\engine.py:935\u001b[0m, in \u001b[0;36mEngine._internal_run\u001b[1;34m(self)\u001b[0m\n\u001b[0;32m    933\u001b[0m     \u001b[39mself\u001b[39m\u001b[39m.\u001b[39m_internal_run_generator \u001b[39m=\u001b[39m \u001b[39mself\u001b[39m\u001b[39m.\u001b[39m_internal_run_as_gen()\n\u001b[0;32m    934\u001b[0m \u001b[39mtry\u001b[39;00m:\n\u001b[1;32m--> 935\u001b[0m     \u001b[39mreturn\u001b[39;00m \u001b[39mnext\u001b[39m(\u001b[39mself\u001b[39m\u001b[39m.\u001b[39m_internal_run_generator)\n\u001b[0;32m    936\u001b[0m \u001b[39mexcept\u001b[39;00m \u001b[39mStopIteration\u001b[39;00m \u001b[39mas\u001b[39;00m out:\n\u001b[0;32m    937\u001b[0m     \u001b[39mself\u001b[39m\u001b[39m.\u001b[39m_internal_run_generator \u001b[39m=\u001b[39m \u001b[39mNone\u001b[39;00m\n",
      "File \u001b[1;32mc:\\Users\\HPatel33\\anaconda3\\Lib\\site-packages\\ignite\\engine\\engine.py:993\u001b[0m, in \u001b[0;36mEngine._internal_run_as_gen\u001b[1;34m(self)\u001b[0m\n\u001b[0;32m    991\u001b[0m     \u001b[39mself\u001b[39m\u001b[39m.\u001b[39m_dataloader_iter \u001b[39m=\u001b[39m \u001b[39mNone\u001b[39;00m\n\u001b[0;32m    992\u001b[0m     \u001b[39mself\u001b[39m\u001b[39m.\u001b[39mlogger\u001b[39m.\u001b[39merror(\u001b[39mf\u001b[39m\u001b[39m\"\u001b[39m\u001b[39mEngine run is terminating due to exception: \u001b[39m\u001b[39m{\u001b[39;00me\u001b[39m}\u001b[39;00m\u001b[39m\"\u001b[39m)\n\u001b[1;32m--> 993\u001b[0m     \u001b[39mself\u001b[39m\u001b[39m.\u001b[39m_handle_exception(e)\n\u001b[0;32m    995\u001b[0m \u001b[39mself\u001b[39m\u001b[39m.\u001b[39m_dataloader_iter \u001b[39m=\u001b[39m \u001b[39mNone\u001b[39;00m\n\u001b[0;32m    996\u001b[0m \u001b[39mreturn\u001b[39;00m \u001b[39mself\u001b[39m\u001b[39m.\u001b[39mstate\n",
      "File \u001b[1;32mc:\\Users\\HPatel33\\anaconda3\\Lib\\site-packages\\ignite\\engine\\engine.py:636\u001b[0m, in \u001b[0;36mEngine._handle_exception\u001b[1;34m(self, e)\u001b[0m\n\u001b[0;32m    634\u001b[0m \u001b[39mdef\u001b[39;00m \u001b[39m_handle_exception\u001b[39m(\u001b[39mself\u001b[39m, e: \u001b[39mBaseException\u001b[39;00m) \u001b[39m-\u001b[39m\u001b[39m>\u001b[39m \u001b[39mNone\u001b[39;00m:\n\u001b[0;32m    635\u001b[0m     \u001b[39mif\u001b[39;00m Events\u001b[39m.\u001b[39mEXCEPTION_RAISED \u001b[39min\u001b[39;00m \u001b[39mself\u001b[39m\u001b[39m.\u001b[39m_event_handlers:\n\u001b[1;32m--> 636\u001b[0m         \u001b[39mself\u001b[39m\u001b[39m.\u001b[39m_fire_event(Events\u001b[39m.\u001b[39mEXCEPTION_RAISED, e)\n\u001b[0;32m    637\u001b[0m     \u001b[39melse\u001b[39;00m:\n\u001b[0;32m    638\u001b[0m         \u001b[39mraise\u001b[39;00m e\n",
      "File \u001b[1;32mc:\\Users\\HPatel33\\anaconda3\\Lib\\site-packages\\ignite\\engine\\engine.py:425\u001b[0m, in \u001b[0;36mEngine._fire_event\u001b[1;34m(self, event_name, *event_args, **event_kwargs)\u001b[0m\n\u001b[0;32m    423\u001b[0m kwargs\u001b[39m.\u001b[39mupdate(event_kwargs)\n\u001b[0;32m    424\u001b[0m first, others \u001b[39m=\u001b[39m ((args[\u001b[39m0\u001b[39m],), args[\u001b[39m1\u001b[39m:]) \u001b[39mif\u001b[39;00m (args \u001b[39mand\u001b[39;00m args[\u001b[39m0\u001b[39m] \u001b[39m==\u001b[39m \u001b[39mself\u001b[39m) \u001b[39melse\u001b[39;00m ((), args)\n\u001b[1;32m--> 425\u001b[0m func(\u001b[39m*\u001b[39mfirst, \u001b[39m*\u001b[39m(event_args \u001b[39m+\u001b[39m others), \u001b[39m*\u001b[39m\u001b[39m*\u001b[39mkwargs)\n",
      "File \u001b[1;32mc:\\Users\\HPatel33\\anaconda3\\Lib\\site-packages\\monai\\handlers\\stats_handler.py:202\u001b[0m, in \u001b[0;36mStatsHandler.exception_raised\u001b[1;34m(self, _engine, e)\u001b[0m\n\u001b[0;32m    191\u001b[0m \u001b[39m\u001b[39m\u001b[39m\"\"\"\u001b[39;00m\n\u001b[0;32m    192\u001b[0m \u001b[39mHandler for train or validation/evaluation exception raised Event.\u001b[39;00m\n\u001b[0;32m    193\u001b[0m \u001b[39mPrint the exception information and traceback. This callback may be skipped because the logic\u001b[39;00m\n\u001b[1;32m   (...)\u001b[0m\n\u001b[0;32m    199\u001b[0m \n\u001b[0;32m    200\u001b[0m \u001b[39m\"\"\"\u001b[39;00m\n\u001b[0;32m    201\u001b[0m \u001b[39mself\u001b[39m\u001b[39m.\u001b[39mlogger\u001b[39m.\u001b[39mexception(\u001b[39mf\u001b[39m\u001b[39m\"\u001b[39m\u001b[39mException: \u001b[39m\u001b[39m{\u001b[39;00me\u001b[39m}\u001b[39;00m\u001b[39m\"\u001b[39m)\n\u001b[1;32m--> 202\u001b[0m \u001b[39mraise\u001b[39;00m e\n",
      "File \u001b[1;32mc:\\Users\\HPatel33\\anaconda3\\Lib\\site-packages\\ignite\\engine\\engine.py:959\u001b[0m, in \u001b[0;36mEngine._internal_run_as_gen\u001b[1;34m(self)\u001b[0m\n\u001b[0;32m    956\u001b[0m \u001b[39mif\u001b[39;00m \u001b[39mself\u001b[39m\u001b[39m.\u001b[39m_dataloader_iter \u001b[39mis\u001b[39;00m \u001b[39mNone\u001b[39;00m:\n\u001b[0;32m    957\u001b[0m     \u001b[39mself\u001b[39m\u001b[39m.\u001b[39m_setup_engine()\n\u001b[1;32m--> 959\u001b[0m epoch_time_taken \u001b[39m+\u001b[39m\u001b[39m=\u001b[39m \u001b[39myield from\u001b[39;00m \u001b[39mself\u001b[39m\u001b[39m.\u001b[39m_run_once_on_dataset_as_gen()\n\u001b[0;32m    961\u001b[0m \u001b[39m# time is available for handlers but must be updated after fire\u001b[39;00m\n\u001b[0;32m    962\u001b[0m \u001b[39mself\u001b[39m\u001b[39m.\u001b[39mstate\u001b[39m.\u001b[39mtimes[Events\u001b[39m.\u001b[39mEPOCH_COMPLETED\u001b[39m.\u001b[39mname] \u001b[39m=\u001b[39m epoch_time_taken\n",
      "File \u001b[1;32mc:\\Users\\HPatel33\\anaconda3\\Lib\\site-packages\\ignite\\engine\\engine.py:1087\u001b[0m, in \u001b[0;36mEngine._run_once_on_dataset_as_gen\u001b[1;34m(self)\u001b[0m\n\u001b[0;32m   1085\u001b[0m \u001b[39mexcept\u001b[39;00m \u001b[39mException\u001b[39;00m \u001b[39mas\u001b[39;00m e:\n\u001b[0;32m   1086\u001b[0m     \u001b[39mself\u001b[39m\u001b[39m.\u001b[39mlogger\u001b[39m.\u001b[39merror(\u001b[39mf\u001b[39m\u001b[39m\"\u001b[39m\u001b[39mCurrent run is terminating due to exception: \u001b[39m\u001b[39m{\u001b[39;00me\u001b[39m}\u001b[39;00m\u001b[39m\"\u001b[39m)\n\u001b[1;32m-> 1087\u001b[0m     \u001b[39mself\u001b[39m\u001b[39m.\u001b[39m_handle_exception(e)\n\u001b[0;32m   1089\u001b[0m \u001b[39mreturn\u001b[39;00m time\u001b[39m.\u001b[39mtime() \u001b[39m-\u001b[39m start_time\n",
      "File \u001b[1;32mc:\\Users\\HPatel33\\anaconda3\\Lib\\site-packages\\ignite\\engine\\engine.py:636\u001b[0m, in \u001b[0;36mEngine._handle_exception\u001b[1;34m(self, e)\u001b[0m\n\u001b[0;32m    634\u001b[0m \u001b[39mdef\u001b[39;00m \u001b[39m_handle_exception\u001b[39m(\u001b[39mself\u001b[39m, e: \u001b[39mBaseException\u001b[39;00m) \u001b[39m-\u001b[39m\u001b[39m>\u001b[39m \u001b[39mNone\u001b[39;00m:\n\u001b[0;32m    635\u001b[0m     \u001b[39mif\u001b[39;00m Events\u001b[39m.\u001b[39mEXCEPTION_RAISED \u001b[39min\u001b[39;00m \u001b[39mself\u001b[39m\u001b[39m.\u001b[39m_event_handlers:\n\u001b[1;32m--> 636\u001b[0m         \u001b[39mself\u001b[39m\u001b[39m.\u001b[39m_fire_event(Events\u001b[39m.\u001b[39mEXCEPTION_RAISED, e)\n\u001b[0;32m    637\u001b[0m     \u001b[39melse\u001b[39;00m:\n\u001b[0;32m    638\u001b[0m         \u001b[39mraise\u001b[39;00m e\n",
      "File \u001b[1;32mc:\\Users\\HPatel33\\anaconda3\\Lib\\site-packages\\ignite\\engine\\engine.py:425\u001b[0m, in \u001b[0;36mEngine._fire_event\u001b[1;34m(self, event_name, *event_args, **event_kwargs)\u001b[0m\n\u001b[0;32m    423\u001b[0m kwargs\u001b[39m.\u001b[39mupdate(event_kwargs)\n\u001b[0;32m    424\u001b[0m first, others \u001b[39m=\u001b[39m ((args[\u001b[39m0\u001b[39m],), args[\u001b[39m1\u001b[39m:]) \u001b[39mif\u001b[39;00m (args \u001b[39mand\u001b[39;00m args[\u001b[39m0\u001b[39m] \u001b[39m==\u001b[39m \u001b[39mself\u001b[39m) \u001b[39melse\u001b[39;00m ((), args)\n\u001b[1;32m--> 425\u001b[0m func(\u001b[39m*\u001b[39mfirst, \u001b[39m*\u001b[39m(event_args \u001b[39m+\u001b[39m others), \u001b[39m*\u001b[39m\u001b[39m*\u001b[39mkwargs)\n",
      "File \u001b[1;32mc:\\Users\\HPatel33\\anaconda3\\Lib\\site-packages\\monai\\handlers\\stats_handler.py:202\u001b[0m, in \u001b[0;36mStatsHandler.exception_raised\u001b[1;34m(self, _engine, e)\u001b[0m\n\u001b[0;32m    191\u001b[0m \u001b[39m\u001b[39m\u001b[39m\"\"\"\u001b[39;00m\n\u001b[0;32m    192\u001b[0m \u001b[39mHandler for train or validation/evaluation exception raised Event.\u001b[39;00m\n\u001b[0;32m    193\u001b[0m \u001b[39mPrint the exception information and traceback. This callback may be skipped because the logic\u001b[39;00m\n\u001b[1;32m   (...)\u001b[0m\n\u001b[0;32m    199\u001b[0m \n\u001b[0;32m    200\u001b[0m \u001b[39m\"\"\"\u001b[39;00m\n\u001b[0;32m    201\u001b[0m \u001b[39mself\u001b[39m\u001b[39m.\u001b[39mlogger\u001b[39m.\u001b[39mexception(\u001b[39mf\u001b[39m\u001b[39m\"\u001b[39m\u001b[39mException: \u001b[39m\u001b[39m{\u001b[39;00me\u001b[39m}\u001b[39;00m\u001b[39m\"\u001b[39m)\n\u001b[1;32m--> 202\u001b[0m \u001b[39mraise\u001b[39;00m e\n",
      "File \u001b[1;32mc:\\Users\\HPatel33\\anaconda3\\Lib\\site-packages\\ignite\\engine\\engine.py:1032\u001b[0m, in \u001b[0;36mEngine._run_once_on_dataset_as_gen\u001b[1;34m(self)\u001b[0m\n\u001b[0;32m   1029\u001b[0m     \u001b[39mself\u001b[39m\u001b[39m.\u001b[39m_fire_event(Events\u001b[39m.\u001b[39mGET_BATCH_STARTED)\n\u001b[0;32m   1030\u001b[0m     \u001b[39myield from\u001b[39;00m \u001b[39mself\u001b[39m\u001b[39m.\u001b[39m_maybe_terminate_or_interrupt()\n\u001b[1;32m-> 1032\u001b[0m \u001b[39mself\u001b[39m\u001b[39m.\u001b[39mstate\u001b[39m.\u001b[39mbatch \u001b[39m=\u001b[39m \u001b[39mnext\u001b[39m(\u001b[39mself\u001b[39m\u001b[39m.\u001b[39m_dataloader_iter)\n\u001b[0;32m   1033\u001b[0m \u001b[39mself\u001b[39m\u001b[39m.\u001b[39m_fire_event(Events\u001b[39m.\u001b[39mGET_BATCH_COMPLETED)\n\u001b[0;32m   1034\u001b[0m \u001b[39myield from\u001b[39;00m \u001b[39mself\u001b[39m\u001b[39m.\u001b[39m_maybe_terminate_or_interrupt()\n",
      "File \u001b[1;32mc:\\Users\\HPatel33\\anaconda3\\Lib\\site-packages\\torch\\utils\\data\\dataloader.py:630\u001b[0m, in \u001b[0;36m_BaseDataLoaderIter.__next__\u001b[1;34m(self)\u001b[0m\n\u001b[0;32m    627\u001b[0m \u001b[39mif\u001b[39;00m \u001b[39mself\u001b[39m\u001b[39m.\u001b[39m_sampler_iter \u001b[39mis\u001b[39;00m \u001b[39mNone\u001b[39;00m:\n\u001b[0;32m    628\u001b[0m     \u001b[39m# TODO(https://github.com/pytorch/pytorch/issues/76750)\u001b[39;00m\n\u001b[0;32m    629\u001b[0m     \u001b[39mself\u001b[39m\u001b[39m.\u001b[39m_reset()  \u001b[39m# type: ignore[call-arg]\u001b[39;00m\n\u001b[1;32m--> 630\u001b[0m data \u001b[39m=\u001b[39m \u001b[39mself\u001b[39m\u001b[39m.\u001b[39m_next_data()\n\u001b[0;32m    631\u001b[0m \u001b[39mself\u001b[39m\u001b[39m.\u001b[39m_num_yielded \u001b[39m+\u001b[39m\u001b[39m=\u001b[39m \u001b[39m1\u001b[39m\n\u001b[0;32m    632\u001b[0m \u001b[39mif\u001b[39;00m \u001b[39mself\u001b[39m\u001b[39m.\u001b[39m_dataset_kind \u001b[39m==\u001b[39m _DatasetKind\u001b[39m.\u001b[39mIterable \u001b[39mand\u001b[39;00m \\\n\u001b[0;32m    633\u001b[0m         \u001b[39mself\u001b[39m\u001b[39m.\u001b[39m_IterableDataset_len_called \u001b[39mis\u001b[39;00m \u001b[39mnot\u001b[39;00m \u001b[39mNone\u001b[39;00m \u001b[39mand\u001b[39;00m \\\n\u001b[0;32m    634\u001b[0m         \u001b[39mself\u001b[39m\u001b[39m.\u001b[39m_num_yielded \u001b[39m>\u001b[39m \u001b[39mself\u001b[39m\u001b[39m.\u001b[39m_IterableDataset_len_called:\n",
      "File \u001b[1;32mc:\\Users\\HPatel33\\anaconda3\\Lib\\site-packages\\torch\\utils\\data\\dataloader.py:1345\u001b[0m, in \u001b[0;36m_MultiProcessingDataLoaderIter._next_data\u001b[1;34m(self)\u001b[0m\n\u001b[0;32m   1343\u001b[0m \u001b[39melse\u001b[39;00m:\n\u001b[0;32m   1344\u001b[0m     \u001b[39mdel\u001b[39;00m \u001b[39mself\u001b[39m\u001b[39m.\u001b[39m_task_info[idx]\n\u001b[1;32m-> 1345\u001b[0m     \u001b[39mreturn\u001b[39;00m \u001b[39mself\u001b[39m\u001b[39m.\u001b[39m_process_data(data)\n",
      "File \u001b[1;32mc:\\Users\\HPatel33\\anaconda3\\Lib\\site-packages\\torch\\utils\\data\\dataloader.py:1371\u001b[0m, in \u001b[0;36m_MultiProcessingDataLoaderIter._process_data\u001b[1;34m(self, data)\u001b[0m\n\u001b[0;32m   1369\u001b[0m \u001b[39mself\u001b[39m\u001b[39m.\u001b[39m_try_put_index()\n\u001b[0;32m   1370\u001b[0m \u001b[39mif\u001b[39;00m \u001b[39misinstance\u001b[39m(data, ExceptionWrapper):\n\u001b[1;32m-> 1371\u001b[0m     data\u001b[39m.\u001b[39mreraise()\n\u001b[0;32m   1372\u001b[0m \u001b[39mreturn\u001b[39;00m data\n",
      "File \u001b[1;32mc:\\Users\\HPatel33\\anaconda3\\Lib\\site-packages\\torch\\_utils.py:694\u001b[0m, in \u001b[0;36mExceptionWrapper.reraise\u001b[1;34m(self)\u001b[0m\n\u001b[0;32m    690\u001b[0m \u001b[39mexcept\u001b[39;00m \u001b[39mTypeError\u001b[39;00m:\n\u001b[0;32m    691\u001b[0m     \u001b[39m# If the exception takes multiple arguments, don't try to\u001b[39;00m\n\u001b[0;32m    692\u001b[0m     \u001b[39m# instantiate since we don't know how to\u001b[39;00m\n\u001b[0;32m    693\u001b[0m     \u001b[39mraise\u001b[39;00m \u001b[39mRuntimeError\u001b[39;00m(msg) \u001b[39mfrom\u001b[39;00m \u001b[39mNone\u001b[39;00m\n\u001b[1;32m--> 694\u001b[0m \u001b[39mraise\u001b[39;00m exception\n",
      "\u001b[1;31mTypeError\u001b[0m: Caught TypeError in DataLoader worker process 0.\nOriginal Traceback (most recent call last):\n  File \"c:\\Users\\HPatel33\\anaconda3\\Lib\\site-packages\\torch\\utils\\data\\_utils\\worker.py\", line 308, in _worker_loop\n    data = fetcher.fetch(index)\n           ^^^^^^^^^^^^^^^^^^^^\n  File \"c:\\Users\\HPatel33\\anaconda3\\Lib\\site-packages\\torch\\utils\\data\\_utils\\fetch.py\", line 51, in fetch\n    data = [self.dataset[idx] for idx in possibly_batched_index]\n           ^^^^^^^^^^^^^^^^^^^^^^^^^^^^^^^^^^^^^^^^^^^^^^^^^^^^^\n  File \"c:\\Users\\HPatel33\\anaconda3\\Lib\\site-packages\\torch\\utils\\data\\_utils\\fetch.py\", line 51, in <listcomp>\n    data = [self.dataset[idx] for idx in possibly_batched_index]\n            ~~~~~~~~~~~~^^^^^\n  File \"c:\\Users\\HPatel33\\anaconda3\\Lib\\site-packages\\monai\\data\\image_dataset.py\", line 108, in __getitem__\n    img = self.loader(self.image_files[index])\n          ^^^^^^^^^^^^^^^^^^^^^^^^^^^^^^^^^^^^\n  File \"c:\\Users\\HPatel33\\anaconda3\\Lib\\site-packages\\monai\\transforms\\io\\array.py\", line 245, in __call__\n    filename = tuple(\n               ^^^^^^\n  File \"c:\\Users\\HPatel33\\anaconda3\\Lib\\site-packages\\monai\\transforms\\io\\array.py\", line 246, in <genexpr>\n    f\"{Path(s).expanduser()}\" if self.expanduser else s for s in ensure_tuple(filename)  # allow Path objects\n       ^^^^^^^\n  File \"c:\\Users\\HPatel33\\anaconda3\\Lib\\pathlib.py\", line 871, in __new__\n    self = cls._from_parts(args)\n           ^^^^^^^^^^^^^^^^^^^^^\n  File \"c:\\Users\\HPatel33\\anaconda3\\Lib\\pathlib.py\", line 509, in _from_parts\n    drv, root, parts = self._parse_args(args)\n                       ^^^^^^^^^^^^^^^^^^^^^^\n  File \"c:\\Users\\HPatel33\\anaconda3\\Lib\\pathlib.py\", line 493, in _parse_args\n    a = os.fspath(a)\n        ^^^^^^^^^^^^\nTypeError: expected str, bytes or os.PathLike object, not float64\n"
     ]
    }
   ],
   "source": [
    "train_epochs = 30\n",
    "state = trainer.run(train_loader, train_epochs)\n",
    "print(state)"
   ]
  }
 ],
 "metadata": {
  "kernelspec": {
   "display_name": "Python 3",
   "language": "python",
   "name": "python3"
  },
  "language_info": {
   "codemirror_mode": {
    "name": "ipython",
    "version": 3
   },
   "file_extension": ".py",
   "mimetype": "text/x-python",
   "name": "python",
   "nbconvert_exporter": "python",
   "pygments_lexer": "ipython3",
   "version": "3.11.5"
  }
 },
 "nbformat": 4,
 "nbformat_minor": 0
}
