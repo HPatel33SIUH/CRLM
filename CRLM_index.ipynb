{
 "cells": [
  {
   "cell_type": "code",
   "execution_count": 75,
   "metadata": {
    "ExecuteTime": {
     "start_time": "2023-10-13T18:14:20.360455800Z"
    },
    "collapsed": false,
    "is_executing": true
   },
   "outputs": [
    {
     "name": "stdout",
     "output_type": "stream",
     "text": [
      "MONAI version: 1.3.0\n",
      "Numpy version: 1.24.3\n",
      "Pytorch version: 2.1.0+cpu\n",
      "MONAI flags: HAS_EXT = False, USE_COMPILED = False, USE_META_DICT = False\n",
      "MONAI rev id: 865972f7a791bf7b42efbcd87c8402bd865b329e\n",
      "MONAI __file__: c:\\Users\\<username>\\anaconda3\\Lib\\site-packages\\monai\\__init__.py\n",
      "\n",
      "Optional dependencies:\n",
      "Pytorch Ignite version: 0.4.12\n",
      "ITK version: NOT INSTALLED or UNKNOWN VERSION.\n",
      "Nibabel version: 5.1.0\n",
      "scikit-image version: 0.20.0\n",
      "scipy version: 1.11.1\n",
      "Pillow version: 9.4.0\n",
      "Tensorboard version: 2.14.1\n",
      "gdown version: 4.7.1\n",
      "TorchVision version: 0.16.0+cpu\n",
      "tqdm version: 4.65.0\n",
      "lmdb version: 1.4.1\n",
      "psutil version: 5.9.0\n",
      "pandas version: 2.0.3\n",
      "einops version: 0.7.0\n",
      "transformers version: 4.32.1\n",
      "mlflow version: 2.7.1\n",
      "pynrrd version: 1.0.0\n",
      "clearml version: 1.13.1\n",
      "\n",
      "For details about installing the optional dependencies, please visit:\n",
      "    https://docs.monai.io/en/latest/installation.html#installing-the-recommended-dependencies\n",
      "\n"
     ]
    }
   ],
   "source": [
    "import logging\n",
    "import os\n",
    "import sys\n",
    "import numpy as np\n",
    "import pandas as pd\n",
    "import torch\n",
    "from ignite.engine import Events, create_supervised_evaluator, create_supervised_trainer\n",
    "from ignite.handlers import EarlyStopping, ModelCheckpoint\n",
    "from ignite.metrics import Accuracy\n",
    "\n",
    "import monai\n",
    "import tensorboard\n",
    "from monai.data import ImageDataset, decollate_batch, DataLoader\n",
    "from monai.handlers import StatsHandler, TensorBoardStatsHandler, stopping_fn_from_metric\n",
    "from monai.transforms import EnsureChannelFirst, Compose, RandRotate90, Resize, ScaleIntensity\n",
    "\n",
    "monai.config.print_config()\n",
    "logging.basicConfig(stream=sys.stdout, level=logging.INFO)"
   ]
  },
  {
   "cell_type": "code",
   "execution_count": 8,
   "metadata": {
    "ExecuteTime": {
     "end_time": "2023-10-11T17:59:58.796573647Z",
     "start_time": "2023-10-11T17:59:58.789556866Z"
    },
    "collapsed": false
   },
   "outputs": [],
   "source": [
    "#list of image paths\n",
    "imgFolder = './LiverSegmentations'\n",
    "images = []\n",
    "for folders in os.listdir(imgFolder):\n",
    "    for files in os.listdir(os.path.join(imgFolder, folders)):\n",
    "        imgPath = os.path.join(imgFolder, folders, files)\n",
    "        images.append(imgPath)"
   ]
  },
  {
   "cell_type": "code",
   "execution_count": 10,
   "metadata": {
    "ExecuteTime": {
     "end_time": "2023-10-11T17:59:59.746559208Z",
     "start_time": "2023-10-11T17:59:59.717653329Z"
    },
    "collapsed": false
   },
   "outputs": [],
   "source": [
    "#extract labels\n",
    "labelPath = \"./Colorectal Liver Metastases Clinical data April 2023.xlsx\"\n",
    "data = pd.read_excel(labelPath, sheet_name=\"CRLM (n=168)\")\n",
    "rec_5yr = data['Recurrence (5y)']\n",
    "rec_2yr = data['Recurrence (2y)']\n",
    "data_id = data['Patient-ID']\n",
    "data_label = pd.concat([data_id, rec_2yr, rec_5yr], axis=1)"
   ]
  },
  {
   "cell_type": "code",
   "execution_count": 11,
   "metadata": {
    "ExecuteTime": {
     "end_time": "2023-10-11T18:00:00.637753784Z",
     "start_time": "2023-10-11T18:00:00.629383975Z"
    },
    "collapsed": false
   },
   "outputs": [
    {
     "name": "stdout",
     "output_type": "stream",
     "text": [
      "     Patient-ID  Recurrence (2y)  Recurrence (5y)\n",
      "0  CRLM-CT-1001                0                0\n",
      "1  CRLM-CT-1002                1                1\n",
      "2  CRLM-CT-1003                0                0\n",
      "3  CRLM-CT-1004                0                0\n",
      "4  CRLM-CT-1005                0                1\n"
     ]
    }
   ],
   "source": [
    "print(data_label.head())"
   ]
  },
  {
   "cell_type": "code",
   "execution_count": 12,
   "metadata": {
    "ExecuteTime": {
     "end_time": "2023-10-11T18:00:01.495172099Z",
     "start_time": "2023-10-11T18:00:01.492775694Z"
    },
    "collapsed": false
   },
   "outputs": [],
   "source": [
    "images = sorted(images)"
   ]
  },
  {
   "cell_type": "code",
   "execution_count": 13,
   "metadata": {
    "ExecuteTime": {
     "end_time": "2023-10-11T18:00:02.731050924Z",
     "start_time": "2023-10-11T18:00:02.729180839Z"
    },
    "collapsed": false
   },
   "outputs": [],
   "source": [
    "paths = []\n",
    "for patients in data_label['Patient-ID']:\n",
    "    for image in images:\n",
    "        if image.find(patients) != -1:\n",
    "            paths.append(image)\n",
    "\n",
    "path_toadd = {'Path':paths}\n",
    "paths_df = pd.DataFrame(path_toadd)\n",
    "data_label = pd.concat([data_label, paths_df], axis=1)"
   ]
  },
  {
   "cell_type": "code",
   "execution_count": 14,
   "metadata": {
    "ExecuteTime": {
     "end_time": "2023-10-11T18:00:03.527009355Z",
     "start_time": "2023-10-11T18:00:03.525090775Z"
    },
    "collapsed": false
   },
   "outputs": [],
   "source": [
    "labels_5yr = np.array(data_label['Recurrence (5y)'], dtype=np.int64)\n",
    "labels_2yr = np.array(data_label['Recurrence (2y)'], dtype=np.int64)"
   ]
  },
  {
   "cell_type": "code",
   "execution_count": 15,
   "metadata": {
    "ExecuteTime": {
     "end_time": "2023-10-11T20:02:16.151298981Z",
     "start_time": "2023-10-11T20:02:16.104125162Z"
    },
    "collapsed": false
   },
   "outputs": [],
   "source": [
    "from sklearn.model_selection import train_test_split\n",
    "\n",
    "x_train2, x_val2, y_train2, y_val2 = train_test_split(data_label, labels_2yr, test_size=0.3)"
   ]
  },
  {
   "cell_type": "code",
   "execution_count": 16,
   "metadata": {
    "ExecuteTime": {
     "end_time": "2023-10-11T20:02:16.707301079Z",
     "start_time": "2023-10-11T20:02:16.698201571Z"
    },
    "collapsed": false
   },
   "outputs": [
    {
     "name": "stdout",
     "output_type": "stream",
     "text": [
      "117\n",
      "51\n"
     ]
    }
   ],
   "source": [
    "print(len(x_train2))\n",
    "print(len(x_val2))"
   ]
  },
  {
   "cell_type": "code",
   "execution_count": 17,
   "metadata": {
    "ExecuteTime": {
     "end_time": "2023-10-11T21:02:46.075136775Z",
     "start_time": "2023-10-11T21:02:24.280803582Z"
    },
    "collapsed": false
   },
   "outputs": [
    {
     "name": "stdout",
     "output_type": "stream",
     "text": [
      "15\n"
     ]
    }
   ],
   "source": [
    "import nibabel as nib\n",
    "import matplotlib.pyplot as plt\n",
    "min_z = 10000\n",
    "for paths in data_label['Path']:\n",
    "    test_load = nib.load(paths).get_fdata()\n",
    "    if test_load.shape[2] < min_z:\n",
    "        min_z = test_load.shape[2]\n",
    "\n",
    "print(min_z)"
   ]
  },
  {
   "cell_type": "code",
   "execution_count": 55,
   "metadata": {
    "ExecuteTime": {
     "end_time": "2023-10-11T21:10:29.930684074Z",
     "start_time": "2023-10-11T21:10:29.884431009Z"
    },
    "collapsed": false
   },
   "outputs": [],
   "source": [
    "# define transforms\n",
    "train_transforms = Compose([ScaleIntensity(), EnsureChannelFirst(), Resize((256, 256, 48)), RandRotate90()])\n",
    "val_transforms = Compose([ScaleIntensity(), EnsureChannelFirst(), Resize((256, 256, 48))])"
   ]
  },
  {
   "cell_type": "code",
   "execution_count": 56,
   "metadata": {
    "ExecuteTime": {
     "end_time": "2023-10-11T21:10:34.790318392Z",
     "start_time": "2023-10-11T21:10:30.618438674Z"
    },
    "collapsed": false
   },
   "outputs": [
    {
     "name": "stdout",
     "output_type": "stream",
     "text": [
      "<class 'monai.data.meta_tensor.MetaTensor'> torch.Size([2, 1, 256, 256, 48]) tensor([0, 1])\n"
     ]
    }
   ],
   "source": [
    "# define image dataset, data loader\n",
    "check_ds = ImageDataset(image_files=np.array(x_train2['Path']), labels=np.array(y_train2), transform=train_transforms)\n",
    "check_loader = DataLoader(check_ds, batch_size=2, num_workers=2, pin_memory=torch.cuda.is_available())\n",
    "im, label = monai.utils.misc.first(check_loader)\n",
    "print(type(im), im.shape, label)"
   ]
  },
  {
   "cell_type": "code",
   "execution_count": 77,
   "metadata": {
    "ExecuteTime": {
     "end_time": "2023-10-11T21:10:36.112862633Z",
     "start_time": "2023-10-11T21:10:35.913894666Z"
    },
    "collapsed": false
   },
   "outputs": [
    {
     "name": "stdout",
     "output_type": "stream",
     "text": [
      "cpu\n"
     ]
    }
   ],
   "source": [
    "# create DenseNet121, CrossEntropyLoss and Adam optimizer\n",
    "device = torch.device(\"cuda\" if torch.cuda.is_available() else \"cpu\")\n",
    "print(device)\n",
    "net = monai.networks.nets.DenseNet264(spatial_dims=3, in_channels=1, out_channels=2).to(device)\n",
    "loss = torch.nn.CrossEntropyLoss()\n",
    "lr = 1e-5\n",
    "opt = torch.optim.Adam(net.parameters(), lr)"
   ]
  },
  {
   "cell_type": "code",
   "execution_count": 76,
   "metadata": {},
   "outputs": [
    {
     "name": "stdout",
     "output_type": "stream",
     "text": [
      "True\n",
      "False\n",
      "2.1.0+cpu\n"
     ]
    }
   ],
   "source": [
    "print(torch.backends.cudnn.enabled)\n",
    "print(torch.cuda.is_available())\n",
    "print(torch.__version__)"
   ]
  },
  {
   "cell_type": "code",
   "execution_count": 58,
   "metadata": {
    "ExecuteTime": {
     "end_time": "2023-10-11T21:10:37.161808642Z",
     "start_time": "2023-10-11T21:10:37.150354355Z"
    },
    "collapsed": false
   },
   "outputs": [],
   "source": [
    "# Ignite trainer expects batch=(img, label) and returns output=loss at every iteration,\n",
    "# user can add output_transform to return other values, like: y_pred, y, etc.\n",
    "trainer = create_supervised_trainer(net, opt, loss, device, False)"
   ]
  },
  {
   "cell_type": "code",
   "execution_count": 59,
   "metadata": {
    "ExecuteTime": {
     "end_time": "2023-10-11T21:10:38.516136439Z",
     "start_time": "2023-10-11T21:10:38.505371919Z"
    },
    "collapsed": false
   },
   "outputs": [
    {
     "data": {
      "text/plain": [
       "<ignite.engine.events.RemovableEventHandle at 0x249884c1690>"
      ]
     },
     "execution_count": 59,
     "metadata": {},
     "output_type": "execute_result"
    }
   ],
   "source": [
    "\n",
    "# adding checkpoint handler to save models (network params and optimizer stats) during training\n",
    "checkpoint_handler = ModelCheckpoint(\"./runs_array/\", \"net\", n_saved=10, require_empty=False)\n",
    "trainer.add_event_handler(\n",
    "    event_name=Events.EPOCH_COMPLETED, handler=checkpoint_handler, to_save={\"net\": net, \"opt\": opt}\n",
    ")"
   ]
  },
  {
   "cell_type": "code",
   "execution_count": 60,
   "metadata": {
    "ExecuteTime": {
     "end_time": "2023-10-11T21:10:39.220366758Z",
     "start_time": "2023-10-11T21:10:39.198480280Z"
    },
    "collapsed": false
   },
   "outputs": [],
   "source": [
    "# StatsHandler prints loss at every iteration and print metrics at every epoch,\n",
    "# we don't set metrics for trainer here, so just print loss, user can also customize print functions\n",
    "# and can use output_transform to convert engine.state.output if it's not loss value\n",
    "train_stats_handler = StatsHandler(name=\"trainer\", output_transform=lambda x: x)\n",
    "train_stats_handler.attach(trainer)"
   ]
  },
  {
   "cell_type": "code",
   "execution_count": 61,
   "metadata": {
    "ExecuteTime": {
     "end_time": "2023-10-11T21:10:39.787454109Z",
     "start_time": "2023-10-11T21:10:39.785868430Z"
    },
    "collapsed": false
   },
   "outputs": [],
   "source": [
    "# TensorBoardStatsHandler plots loss at every iteration and plots metrics at every epoch, same as StatsHandler\n",
    "train_tensorboard_stats_handler = TensorBoardStatsHandler(output_transform=lambda x: x)\n",
    "train_tensorboard_stats_handler.attach(trainer)"
   ]
  },
  {
   "cell_type": "code",
   "execution_count": 62,
   "metadata": {
    "ExecuteTime": {
     "end_time": "2023-10-11T21:10:40.332866968Z",
     "start_time": "2023-10-11T21:10:40.317268651Z"
    },
    "collapsed": false
   },
   "outputs": [],
   "source": [
    "# set parameters for validation\n",
    "validation_every_n_epochs = 1"
   ]
  },
  {
   "cell_type": "code",
   "execution_count": 63,
   "metadata": {
    "ExecuteTime": {
     "end_time": "2023-10-11T21:10:40.915326826Z",
     "start_time": "2023-10-11T21:10:40.899006384Z"
    },
    "collapsed": false
   },
   "outputs": [],
   "source": [
    "metric_name = \"Accuracy\"\n",
    "# add evaluation metric to the evaluator engine\n",
    "val_metrics = {metric_name: Accuracy()}\n",
    "# Ignite evaluator expects batch=(img, label) and returns output=(y_pred, y) at every iteration,\n",
    "# user can add output_transform to return other values\n",
    "evaluator = create_supervised_evaluator(net, val_metrics, device, True)\n"
   ]
  },
  {
   "cell_type": "code",
   "execution_count": 64,
   "metadata": {
    "ExecuteTime": {
     "end_time": "2023-10-11T21:10:41.509586826Z",
     "start_time": "2023-10-11T21:10:41.496472107Z"
    },
    "collapsed": false
   },
   "outputs": [],
   "source": [
    "# add stats event handler to print validation stats via evaluator\n",
    "val_stats_handler = StatsHandler(\n",
    "    name=\"evaluator\",\n",
    "    output_transform=lambda x: None,  # no need to print loss value, so disable per iteration output\n",
    "    global_epoch_transform=lambda x: trainer.state.epoch,\n",
    ")  # fetch global epoch number from trainer\n",
    "val_stats_handler.attach(evaluator)"
   ]
  },
  {
   "cell_type": "code",
   "execution_count": 65,
   "metadata": {
    "ExecuteTime": {
     "end_time": "2023-10-11T21:10:43.416734677Z",
     "start_time": "2023-10-11T21:10:43.408662541Z"
    },
    "collapsed": false
   },
   "outputs": [
    {
     "data": {
      "text/plain": [
       "<ignite.engine.events.RemovableEventHandle at 0x24988499ad0>"
      ]
     },
     "execution_count": 65,
     "metadata": {},
     "output_type": "execute_result"
    }
   ],
   "source": [
    "# add early stopping handler to evaluator\n",
    "early_stopper = EarlyStopping(patience=4, score_function=stopping_fn_from_metric(metric_name), trainer=trainer)\n",
    "evaluator.add_event_handler(event_name=Events.EPOCH_COMPLETED, handler=early_stopper)"
   ]
  },
  {
   "cell_type": "code",
   "execution_count": 66,
   "metadata": {
    "ExecuteTime": {
     "end_time": "2023-10-11T21:10:43.947447461Z",
     "start_time": "2023-10-11T21:10:43.937437086Z"
    },
    "collapsed": false
   },
   "outputs": [],
   "source": [
    "# create a validation data loader\n",
    "val_ds = ImageDataset(image_files=np.array(x_val2['Path']), labels=np.array(y_val2), transform=val_transforms)\n",
    "val_loader = DataLoader(val_ds, batch_size=2, num_workers=2, pin_memory=torch.cuda.is_available())"
   ]
  },
  {
   "cell_type": "code",
   "execution_count": 67,
   "metadata": {
    "ExecuteTime": {
     "end_time": "2023-10-11T21:10:44.452484403Z",
     "start_time": "2023-10-11T21:10:44.448047109Z"
    },
    "collapsed": false
   },
   "outputs": [],
   "source": [
    "@trainer.on(Events.EPOCH_COMPLETED(every=validation_every_n_epochs))\n",
    "def run_validation(engine):\n",
    "    evaluator.run(val_loader)"
   ]
  },
  {
   "cell_type": "code",
   "execution_count": 68,
   "metadata": {
    "ExecuteTime": {
     "end_time": "2023-10-11T21:10:45.031022371Z",
     "start_time": "2023-10-11T21:10:45.023893113Z"
    },
    "collapsed": false
   },
   "outputs": [],
   "source": [
    "# create a training data loader\n",
    "train_ds = ImageDataset(image_files=np.array(x_train2['Path']), labels=np.array(y_train2), transform=train_transforms)\n",
    "train_loader = DataLoader(train_ds, batch_size=2, shuffle=True, num_workers=2, pin_memory=torch.cuda.is_available())"
   ]
  },
  {
   "cell_type": "code",
   "execution_count": 69,
   "metadata": {
    "ExecuteTime": {
     "start_time": "2023-10-11T21:10:46.333389703Z"
    },
    "collapsed": false
   },
   "outputs": [
    {
     "name": "stdout",
     "output_type": "stream",
     "text": [
      "INFO:ignite.engine.engine.Engine:Engine run starting with max_epochs=30.\n",
      "2023-10-13 15:22:57,420 - INFO - Epoch: 1/30, Iter: 1/59 -- Loss: 0.6764 \n",
      "2023-10-13 15:23:02,414 - INFO - Epoch: 1/30, Iter: 2/59 -- Loss: 0.6644 \n",
      "2023-10-13 15:23:06,811 - INFO - Epoch: 1/30, Iter: 3/59 -- Loss: 0.7566 \n",
      "2023-10-13 15:23:11,114 - INFO - Epoch: 1/30, Iter: 4/59 -- Loss: 0.6979 \n",
      "2023-10-13 15:23:15,402 - INFO - Epoch: 1/30, Iter: 5/59 -- Loss: 0.7194 \n",
      "2023-10-13 15:23:19,730 - INFO - Epoch: 1/30, Iter: 6/59 -- Loss: 0.8235 \n",
      "2023-10-13 15:23:24,010 - INFO - Epoch: 1/30, Iter: 7/59 -- Loss: 0.8292 \n",
      "2023-10-13 15:23:28,262 - INFO - Epoch: 1/30, Iter: 8/59 -- Loss: 0.6330 \n",
      "2023-10-13 15:23:32,550 - INFO - Epoch: 1/30, Iter: 9/59 -- Loss: 0.5410 \n",
      "2023-10-13 15:23:36,835 - INFO - Epoch: 1/30, Iter: 10/59 -- Loss: 0.5989 \n",
      "2023-10-13 15:23:41,147 - INFO - Epoch: 1/30, Iter: 11/59 -- Loss: 0.6821 \n",
      "2023-10-13 15:23:45,464 - INFO - Epoch: 1/30, Iter: 12/59 -- Loss: 0.8125 \n",
      "2023-10-13 15:23:49,709 - INFO - Epoch: 1/30, Iter: 13/59 -- Loss: 0.6697 \n",
      "2023-10-13 15:23:54,016 - INFO - Epoch: 1/30, Iter: 14/59 -- Loss: 0.7809 \n",
      "2023-10-13 15:23:58,312 - INFO - Epoch: 1/30, Iter: 15/59 -- Loss: 0.7689 \n",
      "2023-10-13 15:24:02,607 - INFO - Epoch: 1/30, Iter: 16/59 -- Loss: 0.7682 \n",
      "2023-10-13 15:24:06,915 - INFO - Epoch: 1/30, Iter: 17/59 -- Loss: 0.8973 \n",
      "2023-10-13 15:24:11,204 - INFO - Epoch: 1/30, Iter: 18/59 -- Loss: 0.7634 \n",
      "2023-10-13 15:24:15,528 - INFO - Epoch: 1/30, Iter: 19/59 -- Loss: 1.1420 \n",
      "2023-10-13 15:24:19,853 - INFO - Epoch: 1/30, Iter: 20/59 -- Loss: 1.2288 \n",
      "2023-10-13 15:24:24,179 - INFO - Epoch: 1/30, Iter: 21/59 -- Loss: 0.7315 \n",
      "2023-10-13 15:24:28,434 - INFO - Epoch: 1/30, Iter: 22/59 -- Loss: 0.8246 \n",
      "2023-10-13 15:24:32,699 - INFO - Epoch: 1/30, Iter: 23/59 -- Loss: 0.7114 \n",
      "2023-10-13 15:24:36,987 - INFO - Epoch: 1/30, Iter: 24/59 -- Loss: 0.7075 \n",
      "2023-10-13 15:24:41,202 - INFO - Epoch: 1/30, Iter: 25/59 -- Loss: 0.7251 \n",
      "2023-10-13 15:24:45,489 - INFO - Epoch: 1/30, Iter: 26/59 -- Loss: 0.6405 \n",
      "2023-10-13 15:24:49,826 - INFO - Epoch: 1/30, Iter: 27/59 -- Loss: 0.6218 \n",
      "2023-10-13 15:24:54,127 - INFO - Epoch: 1/30, Iter: 28/59 -- Loss: 0.6525 \n",
      "2023-10-13 15:24:58,431 - INFO - Epoch: 1/30, Iter: 29/59 -- Loss: 0.7384 \n",
      "2023-10-13 15:25:02,659 - INFO - Epoch: 1/30, Iter: 30/59 -- Loss: 0.6534 \n",
      "2023-10-13 15:25:06,944 - INFO - Epoch: 1/30, Iter: 31/59 -- Loss: 0.5962 \n",
      "2023-10-13 15:25:11,237 - INFO - Epoch: 1/30, Iter: 32/59 -- Loss: 0.6535 \n",
      "2023-10-13 15:25:15,523 - INFO - Epoch: 1/30, Iter: 33/59 -- Loss: 0.6447 \n",
      "2023-10-13 15:25:19,729 - INFO - Epoch: 1/30, Iter: 34/59 -- Loss: 0.7061 \n",
      "2023-10-13 15:25:24,000 - INFO - Epoch: 1/30, Iter: 35/59 -- Loss: 0.6207 \n",
      "2023-10-13 15:25:28,296 - INFO - Epoch: 1/30, Iter: 36/59 -- Loss: 0.5830 \n",
      "2023-10-13 15:25:32,581 - INFO - Epoch: 1/30, Iter: 37/59 -- Loss: 0.6113 \n",
      "2023-10-13 15:25:36,835 - INFO - Epoch: 1/30, Iter: 38/59 -- Loss: 0.7747 \n",
      "2023-10-13 15:25:41,116 - INFO - Epoch: 1/30, Iter: 39/59 -- Loss: 0.6389 \n",
      "2023-10-13 15:25:45,414 - INFO - Epoch: 1/30, Iter: 40/59 -- Loss: 0.4795 \n",
      "2023-10-13 15:25:49,683 - INFO - Epoch: 1/30, Iter: 41/59 -- Loss: 0.5954 \n",
      "2023-10-13 15:25:53,918 - INFO - Epoch: 1/30, Iter: 42/59 -- Loss: 0.6054 \n",
      "2023-10-13 15:25:58,154 - INFO - Epoch: 1/30, Iter: 43/59 -- Loss: 0.5752 \n",
      "2023-10-13 15:26:02,462 - INFO - Epoch: 1/30, Iter: 44/59 -- Loss: 0.4692 \n",
      "2023-10-13 15:26:06,759 - INFO - Epoch: 1/30, Iter: 45/59 -- Loss: 0.6003 \n",
      "2023-10-13 15:26:11,117 - INFO - Epoch: 1/30, Iter: 46/59 -- Loss: 0.5658 \n",
      "2023-10-13 15:26:15,497 - INFO - Epoch: 1/30, Iter: 47/59 -- Loss: 1.1172 \n",
      "2023-10-13 15:26:19,801 - INFO - Epoch: 1/30, Iter: 48/59 -- Loss: 0.5542 \n",
      "2023-10-13 15:26:24,201 - INFO - Epoch: 1/30, Iter: 49/59 -- Loss: 0.6132 \n",
      "2023-10-13 15:26:28,684 - INFO - Epoch: 1/30, Iter: 50/59 -- Loss: 0.8885 \n",
      "2023-10-13 15:26:33,066 - INFO - Epoch: 1/30, Iter: 51/59 -- Loss: 0.5757 \n",
      "2023-10-13 15:26:37,466 - INFO - Epoch: 1/30, Iter: 52/59 -- Loss: 1.0891 \n",
      "2023-10-13 15:26:41,817 - INFO - Epoch: 1/30, Iter: 53/59 -- Loss: 0.7696 \n",
      "2023-10-13 15:26:46,182 - INFO - Epoch: 1/30, Iter: 54/59 -- Loss: 0.5231 \n",
      "2023-10-13 15:26:50,598 - INFO - Epoch: 1/30, Iter: 55/59 -- Loss: 0.5364 \n",
      "2023-10-13 15:26:54,966 - INFO - Epoch: 1/30, Iter: 56/59 -- Loss: 0.9262 \n",
      "2023-10-13 15:26:59,315 - INFO - Epoch: 1/30, Iter: 57/59 -- Loss: 0.5203 \n",
      "2023-10-13 15:27:03,607 - INFO - Epoch: 1/30, Iter: 58/59 -- Loss: 0.5789 \n",
      "2023-10-13 15:27:05,368 - INFO - Epoch: 1/30, Iter: 59/59 -- Loss: 0.9290 \n",
      "INFO:ignite.engine.engine.Engine:Engine run starting with max_epochs=1.\n",
      "2023-10-13 15:27:29,046 - INFO - Epoch[1] Metrics -- Accuracy: 0.6471 \n",
      "INFO:ignite.engine.engine.Engine:Epoch[1] Complete. Time taken: 00:00:23.230\n",
      "INFO:ignite.engine.engine.Engine:Engine run complete. Time taken: 00:00:23.346\n",
      "INFO:ignite.engine.engine.Engine:Epoch[1] Complete. Time taken: 00:04:41.260\n",
      "2023-10-13 15:27:39,427 - INFO - Epoch: 2/30, Iter: 1/59 -- Loss: 0.5417 \n",
      "2023-10-13 15:27:43,796 - INFO - Epoch: 2/30, Iter: 2/59 -- Loss: 0.5978 \n",
      "2023-10-13 15:27:48,114 - INFO - Epoch: 2/30, Iter: 3/59 -- Loss: 0.5180 \n",
      "2023-10-13 15:27:52,449 - INFO - Epoch: 2/30, Iter: 4/59 -- Loss: 0.5365 \n",
      "2023-10-13 15:27:56,796 - INFO - Epoch: 2/30, Iter: 5/59 -- Loss: 0.9232 \n",
      "2023-10-13 15:28:01,107 - INFO - Epoch: 2/30, Iter: 6/59 -- Loss: 0.9979 \n",
      "2023-10-13 15:28:05,539 - INFO - Epoch: 2/30, Iter: 7/59 -- Loss: 0.6466 \n",
      "2023-10-13 15:28:09,861 - INFO - Epoch: 2/30, Iter: 8/59 -- Loss: 0.4879 \n",
      "2023-10-13 15:28:14,198 - INFO - Epoch: 2/30, Iter: 9/59 -- Loss: 0.5404 \n",
      "2023-10-13 15:28:18,548 - INFO - Epoch: 2/30, Iter: 10/59 -- Loss: 0.5420 \n",
      "2023-10-13 15:28:22,928 - INFO - Epoch: 2/30, Iter: 11/59 -- Loss: 0.4998 \n",
      "2023-10-13 15:28:27,331 - INFO - Epoch: 2/30, Iter: 12/59 -- Loss: 0.5240 \n",
      "2023-10-13 15:28:31,678 - INFO - Epoch: 2/30, Iter: 13/59 -- Loss: 0.5497 \n",
      "2023-10-13 15:28:35,996 - INFO - Epoch: 2/30, Iter: 14/59 -- Loss: 0.4657 \n",
      "2023-10-13 15:28:40,340 - INFO - Epoch: 2/30, Iter: 15/59 -- Loss: 0.4265 \n",
      "2023-10-13 15:28:44,696 - INFO - Epoch: 2/30, Iter: 16/59 -- Loss: 0.4329 \n",
      "2023-10-13 15:28:49,047 - INFO - Epoch: 2/30, Iter: 17/59 -- Loss: 0.9524 \n",
      "2023-10-13 15:28:53,430 - INFO - Epoch: 2/30, Iter: 18/59 -- Loss: 0.5085 \n",
      "2023-10-13 15:28:57,845 - INFO - Epoch: 2/30, Iter: 19/59 -- Loss: 0.7246 \n",
      "2023-10-13 15:29:02,196 - INFO - Epoch: 2/30, Iter: 20/59 -- Loss: 0.9918 \n",
      "2023-10-13 15:29:06,544 - INFO - Epoch: 2/30, Iter: 21/59 -- Loss: 0.3602 \n",
      "2023-10-13 15:29:10,944 - INFO - Epoch: 2/30, Iter: 22/59 -- Loss: 0.5234 \n",
      "2023-10-13 15:29:15,397 - INFO - Epoch: 2/30, Iter: 23/59 -- Loss: 0.9299 \n",
      "2023-10-13 15:29:19,662 - INFO - Epoch: 2/30, Iter: 24/59 -- Loss: 0.5899 \n",
      "2023-10-13 15:29:24,096 - INFO - Epoch: 2/30, Iter: 25/59 -- Loss: 0.6027 \n",
      "2023-10-13 15:29:28,464 - INFO - Epoch: 2/30, Iter: 26/59 -- Loss: 1.2447 \n",
      "2023-10-13 15:29:32,865 - INFO - Epoch: 2/30, Iter: 27/59 -- Loss: 0.5052 \n",
      "2023-10-13 15:29:37,212 - INFO - Epoch: 2/30, Iter: 28/59 -- Loss: 0.5278 \n",
      "2023-10-13 15:29:41,650 - INFO - Epoch: 2/30, Iter: 29/59 -- Loss: 0.7357 \n",
      "2023-10-13 15:29:46,019 - INFO - Epoch: 2/30, Iter: 30/59 -- Loss: 0.5180 \n",
      "2023-10-13 15:29:50,460 - INFO - Epoch: 2/30, Iter: 31/59 -- Loss: 0.6008 \n",
      "2023-10-13 15:29:54,809 - INFO - Epoch: 2/30, Iter: 32/59 -- Loss: 0.5080 \n",
      "2023-10-13 15:29:59,211 - INFO - Epoch: 2/30, Iter: 33/59 -- Loss: 0.4792 \n",
      "2023-10-13 15:30:03,601 - INFO - Epoch: 2/30, Iter: 34/59 -- Loss: 1.1333 \n",
      "2023-10-13 15:30:08,025 - INFO - Epoch: 2/30, Iter: 35/59 -- Loss: 0.5828 \n",
      "2023-10-13 15:30:12,358 - INFO - Epoch: 2/30, Iter: 36/59 -- Loss: 0.4733 \n",
      "2023-10-13 15:30:16,789 - INFO - Epoch: 2/30, Iter: 37/59 -- Loss: 0.4776 \n",
      "2023-10-13 15:30:21,192 - INFO - Epoch: 2/30, Iter: 38/59 -- Loss: 0.4908 \n",
      "2023-10-13 15:30:25,609 - INFO - Epoch: 2/30, Iter: 39/59 -- Loss: 0.8172 \n",
      "2023-10-13 15:30:30,010 - INFO - Epoch: 2/30, Iter: 40/59 -- Loss: 0.4825 \n",
      "2023-10-13 15:30:34,320 - INFO - Epoch: 2/30, Iter: 41/59 -- Loss: 0.4677 \n",
      "2023-10-13 15:30:38,694 - INFO - Epoch: 2/30, Iter: 42/59 -- Loss: 0.7792 \n",
      "2023-10-13 15:30:43,042 - INFO - Epoch: 2/30, Iter: 43/59 -- Loss: 0.6089 \n",
      "2023-10-13 15:30:47,407 - INFO - Epoch: 2/30, Iter: 44/59 -- Loss: 0.4635 \n",
      "2023-10-13 15:30:51,810 - INFO - Epoch: 2/30, Iter: 45/59 -- Loss: 0.4680 \n",
      "2023-10-13 15:30:56,222 - INFO - Epoch: 2/30, Iter: 46/59 -- Loss: 0.6053 \n",
      "2023-10-13 15:31:00,560 - INFO - Epoch: 2/30, Iter: 47/59 -- Loss: 0.8873 \n",
      "2023-10-13 15:31:04,929 - INFO - Epoch: 2/30, Iter: 48/59 -- Loss: 1.0164 \n",
      "2023-10-13 15:31:09,277 - INFO - Epoch: 2/30, Iter: 49/59 -- Loss: 0.4445 \n",
      "2023-10-13 15:31:13,612 - INFO - Epoch: 2/30, Iter: 50/59 -- Loss: 0.4450 \n",
      "2023-10-13 15:31:18,016 - INFO - Epoch: 2/30, Iter: 51/59 -- Loss: 0.7439 \n",
      "2023-10-13 15:31:22,342 - INFO - Epoch: 2/30, Iter: 52/59 -- Loss: 0.5931 \n",
      "2023-10-13 15:31:26,775 - INFO - Epoch: 2/30, Iter: 53/59 -- Loss: 0.4526 \n",
      "2023-10-13 15:31:31,198 - INFO - Epoch: 2/30, Iter: 54/59 -- Loss: 0.4484 \n",
      "2023-10-13 15:31:35,563 - INFO - Epoch: 2/30, Iter: 55/59 -- Loss: 0.6414 \n",
      "2023-10-13 15:31:39,969 - INFO - Epoch: 2/30, Iter: 56/59 -- Loss: 0.7216 \n",
      "2023-10-13 15:31:44,341 - INFO - Epoch: 2/30, Iter: 57/59 -- Loss: 0.4401 \n",
      "2023-10-13 15:31:48,674 - INFO - Epoch: 2/30, Iter: 58/59 -- Loss: 0.4476 \n",
      "2023-10-13 15:31:50,479 - INFO - Epoch: 2/30, Iter: 59/59 -- Loss: 1.0623 \n",
      "INFO:ignite.engine.engine.Engine:Engine run starting with max_epochs=1.\n",
      "2023-10-13 15:32:14,340 - INFO - Epoch[2] Metrics -- Accuracy: 0.6471 \n",
      "INFO:ignite.engine.engine.Engine:Epoch[1] Complete. Time taken: 00:00:23.411\n",
      "INFO:ignite.engine.engine.Engine:Engine run complete. Time taken: 00:00:23.516\n",
      "INFO:ignite.engine.engine.Engine:Epoch[2] Complete. Time taken: 00:04:45.304\n",
      "2023-10-13 15:32:24,225 - INFO - Epoch: 3/30, Iter: 1/59 -- Loss: 0.6453 \n",
      "2023-10-13 15:32:28,622 - INFO - Epoch: 3/30, Iter: 2/59 -- Loss: 0.8917 \n",
      "2023-10-13 15:32:32,970 - INFO - Epoch: 3/30, Iter: 3/59 -- Loss: 0.8302 \n",
      "2023-10-13 15:32:37,326 - INFO - Epoch: 3/30, Iter: 4/59 -- Loss: 0.4197 \n",
      "2023-10-13 15:32:41,607 - INFO - Epoch: 3/30, Iter: 5/59 -- Loss: 0.5589 \n",
      "2023-10-13 15:32:46,005 - INFO - Epoch: 3/30, Iter: 6/59 -- Loss: 0.4416 \n",
      "2023-10-13 15:32:50,386 - INFO - Epoch: 3/30, Iter: 7/59 -- Loss: 1.0411 \n",
      "2023-10-13 15:32:54,741 - INFO - Epoch: 3/30, Iter: 8/59 -- Loss: 0.6019 \n",
      "2023-10-13 15:32:59,059 - INFO - Epoch: 3/30, Iter: 9/59 -- Loss: 0.9017 \n",
      "2023-10-13 15:33:03,390 - INFO - Epoch: 3/30, Iter: 10/59 -- Loss: 0.4393 \n",
      "2023-10-13 15:33:07,735 - INFO - Epoch: 3/30, Iter: 11/59 -- Loss: 0.6981 \n",
      "2023-10-13 15:33:12,102 - INFO - Epoch: 3/30, Iter: 12/59 -- Loss: 0.4382 \n",
      "2023-10-13 15:33:16,473 - INFO - Epoch: 3/30, Iter: 13/59 -- Loss: 0.6887 \n",
      "2023-10-13 15:33:20,820 - INFO - Epoch: 3/30, Iter: 14/59 -- Loss: 0.5960 \n",
      "2023-10-13 15:33:25,221 - INFO - Epoch: 3/30, Iter: 15/59 -- Loss: 0.8579 \n",
      "2023-10-13 15:33:29,539 - INFO - Epoch: 3/30, Iter: 16/59 -- Loss: 0.4587 \n",
      "2023-10-13 15:33:33,886 - INFO - Epoch: 3/30, Iter: 17/59 -- Loss: 0.4592 \n",
      "2023-10-13 15:33:38,289 - INFO - Epoch: 3/30, Iter: 18/59 -- Loss: 1.0416 \n",
      "2023-10-13 15:33:42,720 - INFO - Epoch: 3/30, Iter: 19/59 -- Loss: 0.6738 \n",
      "2023-10-13 15:33:47,169 - INFO - Epoch: 3/30, Iter: 20/59 -- Loss: 0.4433 \n",
      "2023-10-13 15:33:51,492 - INFO - Epoch: 3/30, Iter: 21/59 -- Loss: 0.6005 \n",
      "2023-10-13 15:33:55,822 - INFO - Epoch: 3/30, Iter: 22/59 -- Loss: 0.4369 \n",
      "2023-10-13 15:34:00,157 - INFO - Epoch: 3/30, Iter: 23/59 -- Loss: 0.4704 \n",
      "2023-10-13 15:34:04,560 - INFO - Epoch: 3/30, Iter: 24/59 -- Loss: 0.4455 \n",
      "2023-10-13 15:34:08,987 - INFO - Epoch: 3/30, Iter: 25/59 -- Loss: 0.8781 \n",
      "2023-10-13 15:34:13,368 - INFO - Epoch: 3/30, Iter: 26/59 -- Loss: 0.4941 \n",
      "2023-10-13 15:34:17,739 - INFO - Epoch: 3/30, Iter: 27/59 -- Loss: 0.4415 \n",
      "2023-10-13 15:34:22,072 - INFO - Epoch: 3/30, Iter: 28/59 -- Loss: 0.4341 \n",
      "2023-10-13 15:34:26,453 - INFO - Epoch: 3/30, Iter: 29/59 -- Loss: 0.4288 \n",
      "2023-10-13 15:34:30,788 - INFO - Epoch: 3/30, Iter: 30/59 -- Loss: 1.0811 \n",
      "2023-10-13 15:34:35,207 - INFO - Epoch: 3/30, Iter: 31/59 -- Loss: 0.4184 \n",
      "2023-10-13 15:34:39,560 - INFO - Epoch: 3/30, Iter: 32/59 -- Loss: 0.4379 \n",
      "2023-10-13 15:34:43,919 - INFO - Epoch: 3/30, Iter: 33/59 -- Loss: 0.4263 \n",
      "2023-10-13 15:34:48,364 - INFO - Epoch: 3/30, Iter: 34/59 -- Loss: 0.4267 \n",
      "2023-10-13 15:34:52,783 - INFO - Epoch: 3/30, Iter: 35/59 -- Loss: 0.6597 \n",
      "2023-10-13 15:34:57,200 - INFO - Epoch: 3/30, Iter: 36/59 -- Loss: 0.4213 \n",
      "2023-10-13 15:35:01,553 - INFO - Epoch: 3/30, Iter: 37/59 -- Loss: 0.7374 \n",
      "2023-10-13 15:35:05,969 - INFO - Epoch: 3/30, Iter: 38/59 -- Loss: 0.5327 \n",
      "2023-10-13 15:35:10,407 - INFO - Epoch: 3/30, Iter: 39/59 -- Loss: 0.4115 \n",
      "2023-10-13 15:35:14,678 - INFO - Epoch: 3/30, Iter: 40/59 -- Loss: 0.4038 \n",
      "2023-10-13 15:35:19,044 - INFO - Epoch: 3/30, Iter: 41/59 -- Loss: 0.6190 \n",
      "2023-10-13 15:35:23,347 - INFO - Epoch: 3/30, Iter: 42/59 -- Loss: 0.3963 \n",
      "2023-10-13 15:35:27,719 - INFO - Epoch: 3/30, Iter: 43/59 -- Loss: 0.4845 \n",
      "2023-10-13 15:35:32,121 - INFO - Epoch: 3/30, Iter: 44/59 -- Loss: 0.3908 \n",
      "2023-10-13 15:35:36,572 - INFO - Epoch: 3/30, Iter: 45/59 -- Loss: 0.3918 \n",
      "2023-10-13 15:35:40,960 - INFO - Epoch: 3/30, Iter: 46/59 -- Loss: 0.5841 \n",
      "2023-10-13 15:35:45,393 - INFO - Epoch: 3/30, Iter: 47/59 -- Loss: 0.5326 \n",
      "2023-10-13 15:35:49,753 - INFO - Epoch: 3/30, Iter: 48/59 -- Loss: 0.4004 \n",
      "2023-10-13 15:35:54,126 - INFO - Epoch: 3/30, Iter: 49/59 -- Loss: 0.4319 \n",
      "2023-10-13 15:35:58,517 - INFO - Epoch: 3/30, Iter: 50/59 -- Loss: 0.4209 \n",
      "2023-10-13 15:36:02,944 - INFO - Epoch: 3/30, Iter: 51/59 -- Loss: 0.4259 \n",
      "2023-10-13 15:36:07,349 - INFO - Epoch: 3/30, Iter: 52/59 -- Loss: 0.9055 \n",
      "2023-10-13 15:36:11,753 - INFO - Epoch: 3/30, Iter: 53/59 -- Loss: 0.5299 \n",
      "2023-10-13 15:36:16,169 - INFO - Epoch: 3/30, Iter: 54/59 -- Loss: 0.5022 \n",
      "2023-10-13 15:36:20,534 - INFO - Epoch: 3/30, Iter: 55/59 -- Loss: 0.6423 \n",
      "2023-10-13 15:36:24,898 - INFO - Epoch: 3/30, Iter: 56/59 -- Loss: 1.2514 \n",
      "2023-10-13 15:36:29,235 - INFO - Epoch: 3/30, Iter: 57/59 -- Loss: 0.4192 \n",
      "2023-10-13 15:36:33,584 - INFO - Epoch: 3/30, Iter: 58/59 -- Loss: 1.2610 \n",
      "2023-10-13 15:36:35,334 - INFO - Epoch: 3/30, Iter: 59/59 -- Loss: 1.1882 \n",
      "INFO:ignite.engine.engine.Engine:Engine run starting with max_epochs=1.\n",
      "2023-10-13 15:36:59,033 - INFO - Epoch[3] Metrics -- Accuracy: 0.5686 \n",
      "INFO:ignite.engine.engine.Engine:Epoch[1] Complete. Time taken: 00:00:23.240\n",
      "INFO:ignite.engine.engine.Engine:Engine run complete. Time taken: 00:00:23.347\n",
      "INFO:ignite.engine.engine.Engine:Epoch[3] Complete. Time taken: 00:04:44.687\n",
      "2023-10-13 15:37:10,216 - INFO - Epoch: 4/30, Iter: 1/59 -- Loss: 0.3459 \n",
      "2023-10-13 15:37:14,641 - INFO - Epoch: 4/30, Iter: 2/59 -- Loss: 1.2240 \n",
      "2023-10-13 15:37:19,057 - INFO - Epoch: 4/30, Iter: 3/59 -- Loss: 0.4908 \n",
      "2023-10-13 15:37:23,564 - INFO - Epoch: 4/30, Iter: 4/59 -- Loss: 0.3901 \n",
      "2023-10-13 15:37:28,018 - INFO - Epoch: 4/30, Iter: 5/59 -- Loss: 0.5298 \n",
      "2023-10-13 15:37:32,447 - INFO - Epoch: 4/30, Iter: 6/59 -- Loss: 1.0397 \n",
      "2023-10-13 15:37:36,934 - INFO - Epoch: 4/30, Iter: 7/59 -- Loss: 0.3826 \n",
      "2023-10-13 15:37:41,448 - INFO - Epoch: 4/30, Iter: 8/59 -- Loss: 0.4845 \n",
      "2023-10-13 15:37:45,947 - INFO - Epoch: 4/30, Iter: 9/59 -- Loss: 0.4359 \n",
      "2023-10-13 15:37:50,385 - INFO - Epoch: 4/30, Iter: 10/59 -- Loss: 0.3900 \n",
      "2023-10-13 15:37:54,814 - INFO - Epoch: 4/30, Iter: 11/59 -- Loss: 0.3814 \n",
      "2023-10-13 15:37:59,300 - INFO - Epoch: 4/30, Iter: 12/59 -- Loss: 0.4731 \n",
      "2023-10-13 15:38:03,700 - INFO - Epoch: 4/30, Iter: 13/59 -- Loss: 0.3885 \n",
      "2023-10-13 15:38:08,148 - INFO - Epoch: 4/30, Iter: 14/59 -- Loss: 0.4625 \n",
      "2023-10-13 15:38:12,621 - INFO - Epoch: 4/30, Iter: 15/59 -- Loss: 0.3725 \n",
      "2023-10-13 15:38:17,140 - INFO - Epoch: 4/30, Iter: 16/59 -- Loss: 0.3778 \n",
      "2023-10-13 15:38:21,582 - INFO - Epoch: 4/30, Iter: 17/59 -- Loss: 0.3586 \n",
      "2023-10-13 15:38:26,095 - INFO - Epoch: 4/30, Iter: 18/59 -- Loss: 1.2220 \n",
      "2023-10-13 15:38:30,544 - INFO - Epoch: 4/30, Iter: 19/59 -- Loss: 0.4054 \n",
      "2023-10-13 15:38:34,981 - INFO - Epoch: 4/30, Iter: 20/59 -- Loss: 0.3484 \n",
      "2023-10-13 15:38:39,446 - INFO - Epoch: 4/30, Iter: 21/59 -- Loss: 0.3696 \n",
      "2023-10-13 15:38:43,931 - INFO - Epoch: 4/30, Iter: 22/59 -- Loss: 0.5948 \n",
      "2023-10-13 15:38:48,444 - INFO - Epoch: 4/30, Iter: 23/59 -- Loss: 0.3535 \n",
      "2023-10-13 15:38:52,927 - INFO - Epoch: 4/30, Iter: 24/59 -- Loss: 0.5979 \n",
      "2023-10-13 15:38:57,310 - INFO - Epoch: 4/30, Iter: 25/59 -- Loss: 0.6005 \n",
      "2023-10-13 15:39:01,756 - INFO - Epoch: 4/30, Iter: 26/59 -- Loss: 0.3372 \n",
      "2023-10-13 15:39:06,191 - INFO - Epoch: 4/30, Iter: 27/59 -- Loss: 1.2434 \n",
      "2023-10-13 15:39:10,630 - INFO - Epoch: 4/30, Iter: 28/59 -- Loss: 0.6693 \n",
      "2023-10-13 15:39:15,083 - INFO - Epoch: 4/30, Iter: 29/59 -- Loss: 0.3787 \n",
      "2023-10-13 15:39:19,515 - INFO - Epoch: 4/30, Iter: 30/59 -- Loss: 1.2669 \n",
      "2023-10-13 15:39:23,981 - INFO - Epoch: 4/30, Iter: 31/59 -- Loss: 0.3948 \n",
      "2023-10-13 15:39:28,480 - INFO - Epoch: 4/30, Iter: 32/59 -- Loss: 0.3366 \n",
      "2023-10-13 15:39:32,979 - INFO - Epoch: 4/30, Iter: 33/59 -- Loss: 1.2157 \n",
      "2023-10-13 15:39:37,470 - INFO - Epoch: 4/30, Iter: 34/59 -- Loss: 1.2572 \n",
      "2023-10-13 15:39:41,894 - INFO - Epoch: 4/30, Iter: 35/59 -- Loss: 0.3373 \n",
      "2023-10-13 15:39:46,387 - INFO - Epoch: 4/30, Iter: 36/59 -- Loss: 1.2423 \n",
      "2023-10-13 15:39:50,864 - INFO - Epoch: 4/30, Iter: 37/59 -- Loss: 1.2514 \n",
      "2023-10-13 15:39:55,282 - INFO - Epoch: 4/30, Iter: 38/59 -- Loss: 0.7586 \n",
      "2023-10-13 15:39:59,764 - INFO - Epoch: 4/30, Iter: 39/59 -- Loss: 0.3779 \n",
      "2023-10-13 15:40:04,244 - INFO - Epoch: 4/30, Iter: 40/59 -- Loss: 0.3517 \n",
      "2023-10-13 15:40:08,677 - INFO - Epoch: 4/30, Iter: 41/59 -- Loss: 0.9838 \n",
      "2023-10-13 15:40:13,212 - INFO - Epoch: 4/30, Iter: 42/59 -- Loss: 1.2026 \n",
      "2023-10-13 15:40:17,630 - INFO - Epoch: 4/30, Iter: 43/59 -- Loss: 0.3532 \n",
      "2023-10-13 15:40:22,079 - INFO - Epoch: 4/30, Iter: 44/59 -- Loss: 0.3622 \n",
      "2023-10-13 15:40:26,542 - INFO - Epoch: 4/30, Iter: 45/59 -- Loss: 0.7869 \n",
      "2023-10-13 15:40:30,975 - INFO - Epoch: 4/30, Iter: 46/59 -- Loss: 0.3624 \n",
      "2023-10-13 15:40:35,446 - INFO - Epoch: 4/30, Iter: 47/59 -- Loss: 0.7134 \n",
      "2023-10-13 15:40:39,895 - INFO - Epoch: 4/30, Iter: 48/59 -- Loss: 0.6455 \n",
      "2023-10-13 15:40:44,321 - INFO - Epoch: 4/30, Iter: 49/59 -- Loss: 1.1819 \n",
      "2023-10-13 15:40:48,759 - INFO - Epoch: 4/30, Iter: 50/59 -- Loss: 0.3753 \n",
      "2023-10-13 15:40:53,294 - INFO - Epoch: 4/30, Iter: 51/59 -- Loss: 0.6787 \n",
      "2023-10-13 15:40:57,712 - INFO - Epoch: 4/30, Iter: 52/59 -- Loss: 0.3795 \n",
      "2023-10-13 15:41:02,193 - INFO - Epoch: 4/30, Iter: 53/59 -- Loss: 1.1625 \n",
      "2023-10-13 15:41:06,611 - INFO - Epoch: 4/30, Iter: 54/59 -- Loss: 0.6514 \n",
      "2023-10-13 15:41:11,027 - INFO - Epoch: 4/30, Iter: 55/59 -- Loss: 0.3879 \n",
      "2023-10-13 15:41:15,461 - INFO - Epoch: 4/30, Iter: 56/59 -- Loss: 0.3807 \n",
      "2023-10-13 15:41:19,878 - INFO - Epoch: 4/30, Iter: 57/59 -- Loss: 0.6834 \n",
      "2023-10-13 15:41:24,378 - INFO - Epoch: 4/30, Iter: 58/59 -- Loss: 0.3856 \n",
      "2023-10-13 15:41:26,160 - INFO - Epoch: 4/30, Iter: 59/59 -- Loss: 1.1353 \n",
      "INFO:ignite.engine.engine.Engine:Engine run starting with max_epochs=1.\n",
      "2023-10-13 15:41:50,058 - INFO - Epoch[4] Metrics -- Accuracy: 0.6275 \n",
      "INFO:ignite.engine.engine.Engine:Epoch[1] Complete. Time taken: 00:00:23.348\n",
      "INFO:ignite.engine.engine.Engine:Engine run complete. Time taken: 00:00:23.448\n",
      "INFO:ignite.engine.engine.Engine:Epoch[4] Complete. Time taken: 00:04:51.035\n",
      "2023-10-13 15:42:00,298 - INFO - Epoch: 5/30, Iter: 1/59 -- Loss: 0.4072 \n",
      "2023-10-13 15:42:04,812 - INFO - Epoch: 5/30, Iter: 2/59 -- Loss: 1.1242 \n",
      "2023-10-13 15:42:09,308 - INFO - Epoch: 5/30, Iter: 3/59 -- Loss: 0.3857 \n",
      "2023-10-13 15:42:13,741 - INFO - Epoch: 5/30, Iter: 4/59 -- Loss: 0.6813 \n",
      "2023-10-13 15:42:18,205 - INFO - Epoch: 5/30, Iter: 5/59 -- Loss: 0.6016 \n",
      "2023-10-13 15:42:22,635 - INFO - Epoch: 5/30, Iter: 6/59 -- Loss: 0.3975 \n",
      "2023-10-13 15:42:27,106 - INFO - Epoch: 5/30, Iter: 7/59 -- Loss: 0.8086 \n",
      "2023-10-13 15:42:31,557 - INFO - Epoch: 5/30, Iter: 8/59 -- Loss: 0.4005 \n",
      "2023-10-13 15:42:36,037 - INFO - Epoch: 5/30, Iter: 9/59 -- Loss: 0.4254 \n",
      "2023-10-13 15:42:40,594 - INFO - Epoch: 5/30, Iter: 10/59 -- Loss: 1.0954 \n",
      "2023-10-13 15:42:45,045 - INFO - Epoch: 5/30, Iter: 11/59 -- Loss: 0.4148 \n",
      "2023-10-13 15:42:49,454 - INFO - Epoch: 5/30, Iter: 12/59 -- Loss: 0.6103 \n",
      "2023-10-13 15:42:53,925 - INFO - Epoch: 5/30, Iter: 13/59 -- Loss: 0.5299 \n",
      "2023-10-13 15:42:58,406 - INFO - Epoch: 5/30, Iter: 14/59 -- Loss: 1.0321 \n",
      "2023-10-13 15:43:02,924 - INFO - Epoch: 5/30, Iter: 15/59 -- Loss: 0.4025 \n",
      "2023-10-13 15:43:07,424 - INFO - Epoch: 5/30, Iter: 16/59 -- Loss: 0.4175 \n",
      "2023-10-13 15:43:11,857 - INFO - Epoch: 5/30, Iter: 17/59 -- Loss: 0.4149 \n",
      "2023-10-13 15:43:16,308 - INFO - Epoch: 5/30, Iter: 18/59 -- Loss: 0.4302 \n",
      "2023-10-13 15:43:20,738 - INFO - Epoch: 5/30, Iter: 19/59 -- Loss: 0.4630 \n",
      "2023-10-13 15:43:25,156 - INFO - Epoch: 5/30, Iter: 20/59 -- Loss: 0.4135 \n",
      "2023-10-13 15:43:29,642 - INFO - Epoch: 5/30, Iter: 21/59 -- Loss: 0.6226 \n",
      "2023-10-13 15:43:34,077 - INFO - Epoch: 5/30, Iter: 22/59 -- Loss: 0.3981 \n",
      "2023-10-13 15:43:38,573 - INFO - Epoch: 5/30, Iter: 23/59 -- Loss: 0.9745 \n",
      "2023-10-13 15:43:43,038 - INFO - Epoch: 5/30, Iter: 24/59 -- Loss: 0.4155 \n",
      "2023-10-13 15:43:47,480 - INFO - Epoch: 5/30, Iter: 25/59 -- Loss: 0.3982 \n",
      "2023-10-13 15:43:51,954 - INFO - Epoch: 5/30, Iter: 26/59 -- Loss: 0.8029 \n",
      "2023-10-13 15:43:56,436 - INFO - Epoch: 5/30, Iter: 27/59 -- Loss: 0.4033 \n",
      "2023-10-13 15:44:00,956 - INFO - Epoch: 5/30, Iter: 28/59 -- Loss: 0.3883 \n",
      "2023-10-13 15:44:05,426 - INFO - Epoch: 5/30, Iter: 29/59 -- Loss: 0.5778 \n",
      "2023-10-13 15:44:09,922 - INFO - Epoch: 5/30, Iter: 30/59 -- Loss: 0.4376 \n",
      "2023-10-13 15:44:14,360 - INFO - Epoch: 5/30, Iter: 31/59 -- Loss: 0.3819 \n",
      "2023-10-13 15:44:18,757 - INFO - Epoch: 5/30, Iter: 32/59 -- Loss: 0.3780 \n",
      "2023-10-13 15:44:23,203 - INFO - Epoch: 5/30, Iter: 33/59 -- Loss: 0.3738 \n",
      "2023-10-13 15:44:27,624 - INFO - Epoch: 5/30, Iter: 34/59 -- Loss: 0.9025 \n",
      "2023-10-13 15:44:32,140 - INFO - Epoch: 5/30, Iter: 35/59 -- Loss: 1.2092 \n",
      "2023-10-13 15:44:36,701 - INFO - Epoch: 5/30, Iter: 36/59 -- Loss: 0.6694 \n",
      "2023-10-13 15:44:41,124 - INFO - Epoch: 5/30, Iter: 37/59 -- Loss: 0.3621 \n",
      "2023-10-13 15:44:45,555 - INFO - Epoch: 5/30, Iter: 38/59 -- Loss: 0.3660 \n",
      "2023-10-13 15:44:49,969 - INFO - Epoch: 5/30, Iter: 39/59 -- Loss: 1.1849 \n",
      "2023-10-13 15:44:54,516 - INFO - Epoch: 5/30, Iter: 40/59 -- Loss: 0.3547 \n",
      "2023-10-13 15:44:58,921 - INFO - Epoch: 5/30, Iter: 41/59 -- Loss: 0.3583 \n",
      "2023-10-13 15:45:03,422 - INFO - Epoch: 5/30, Iter: 42/59 -- Loss: 0.3594 \n",
      "2023-10-13 15:45:07,936 - INFO - Epoch: 5/30, Iter: 43/59 -- Loss: 0.6907 \n",
      "2023-10-13 15:45:12,371 - INFO - Epoch: 5/30, Iter: 44/59 -- Loss: 0.3686 \n",
      "2023-10-13 15:45:16,853 - INFO - Epoch: 5/30, Iter: 45/59 -- Loss: 0.8182 \n",
      "2023-10-13 15:45:21,291 - INFO - Epoch: 5/30, Iter: 46/59 -- Loss: 1.2212 \n",
      "2023-10-13 15:45:25,722 - INFO - Epoch: 5/30, Iter: 47/59 -- Loss: 0.7366 \n",
      "2023-10-13 15:45:30,119 - INFO - Epoch: 5/30, Iter: 48/59 -- Loss: 0.3530 \n",
      "2023-10-13 15:45:34,555 - INFO - Epoch: 5/30, Iter: 49/59 -- Loss: 1.1913 \n",
      "2023-10-13 15:45:39,069 - INFO - Epoch: 5/30, Iter: 50/59 -- Loss: 0.3585 \n",
      "2023-10-13 15:45:43,515 - INFO - Epoch: 5/30, Iter: 51/59 -- Loss: 0.8352 \n",
      "2023-10-13 15:45:47,967 - INFO - Epoch: 5/30, Iter: 52/59 -- Loss: 1.1852 \n",
      "2023-10-13 15:45:52,419 - INFO - Epoch: 5/30, Iter: 53/59 -- Loss: 0.3591 \n",
      "2023-10-13 15:45:56,933 - INFO - Epoch: 5/30, Iter: 54/59 -- Loss: 0.7927 \n",
      "2023-10-13 15:46:01,368 - INFO - Epoch: 5/30, Iter: 55/59 -- Loss: 0.6428 \n",
      "2023-10-13 15:46:05,803 - INFO - Epoch: 5/30, Iter: 56/59 -- Loss: 0.6456 \n",
      "2023-10-13 15:46:10,211 - INFO - Epoch: 5/30, Iter: 57/59 -- Loss: 0.7821 \n",
      "2023-10-13 15:46:14,669 - INFO - Epoch: 5/30, Iter: 58/59 -- Loss: 0.8855 \n",
      "2023-10-13 15:46:16,453 - INFO - Epoch: 5/30, Iter: 59/59 -- Loss: 1.1574 \n",
      "INFO:ignite.engine.engine.Engine:Engine run starting with max_epochs=1.\n",
      "2023-10-13 15:46:39,970 - INFO - Epoch[5] Metrics -- Accuracy: 0.6275 \n"
     ]
    },
    {
     "name": "stderr",
     "output_type": "stream",
     "text": [
      "2023-10-13 15:46:39,970 ignite.handlers.early_stopping.EarlyStopping INFO: EarlyStopping: Stop training\n"
     ]
    },
    {
     "name": "stdout",
     "output_type": "stream",
     "text": [
      "INFO:ignite.engine.engine.Engine:Terminate signaled. Engine will stop after current iteration is finished.\n",
      "INFO:ignite.engine.engine.Engine:Epoch[1] Complete. Time taken: 00:00:23.103\n",
      "INFO:ignite.engine.engine.Engine:Engine run complete. Time taken: 00:00:23.207\n",
      "INFO:ignite.engine.engine.Engine:Engine run complete. Time taken: 00:23:52.304\n",
      "State:\n",
      "\titeration: 295\n",
      "\tepoch: 5\n",
      "\tepoch_length: 59\n",
      "\tmax_epochs: 30\n",
      "\toutput: 1.157374382019043\n",
      "\tbatch: <class 'list'>\n",
      "\tmetrics: <class 'dict'>\n",
      "\tdataloader: <class 'monai.data.dataloader.DataLoader'>\n",
      "\tseed: <class 'NoneType'>\n",
      "\ttimes: <class 'dict'>\n",
      "\n"
     ]
    }
   ],
   "source": [
    "train_epochs = 30\n",
    "state = trainer.run(train_loader, train_epochs)\n",
    "print(state)"
   ]
  }
 ],
 "metadata": {
  "kernelspec": {
   "display_name": "Python 3",
   "language": "python",
   "name": "python3"
  },
  "language_info": {
   "codemirror_mode": {
    "name": "ipython",
    "version": 3
   },
   "file_extension": ".py",
   "mimetype": "text/x-python",
   "name": "python",
   "nbconvert_exporter": "python",
   "pygments_lexer": "ipython3",
   "version": "3.11.5"
  }
 },
 "nbformat": 4,
 "nbformat_minor": 0
}
